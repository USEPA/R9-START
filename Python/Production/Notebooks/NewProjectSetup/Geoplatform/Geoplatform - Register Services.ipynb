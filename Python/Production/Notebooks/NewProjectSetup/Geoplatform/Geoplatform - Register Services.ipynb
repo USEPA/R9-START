{
 "cells": [
  {
   "cell_type": "markdown",
   "metadata": {},
   "source": [
    "#  <font color='red'>Geoplatform - Register Services from ER Cloud</font>\n",
    "<b><u>Contents:</b></u><br>\n",
    "1) Register a feature service from ER Cloud.<br>\n",
    "2) Remove item deletion protection.<br>\n",
    "\n",
    "<font color='blue' size='2'>Note:  Always run cells with blue headers before running any other processes."
   ]
  },
  {
   "cell_type": "markdown",
   "metadata": {},
   "source": [
    "#  <font color=blue>Import modules and Connect to Portal</font>\n",
    "- <font color=red>Important:</font>  Connection method in this script requires that you are logged into <b> ArcGIS Pro</b> on this machine with your <b>Geoplatform</b> account.  Otherwise you will not be able to access EPA Geoplatform items with this script.  Also an admin Geoplatform account is required to moved other user's items."
   ]
  },
  {
   "cell_type": "code",
   "execution_count": 1,
   "metadata": {
    "scrolled": true
   },
   "outputs": [
    {
     "name": "stdout",
     "output_type": "stream",
     "text": [
      "\u001b[34mModules Imported \u001b[0m04/17/2024 16:12 Pacific Daylight Time\n",
      "\u001b[34mLogged in as: \u001b[0mGreen.Ryan_EPA\n"
     ]
    }
   ],
   "source": [
    "import os, sys\n",
    "import arcgis\n",
    "from arcgis.gis import GIS\n",
    "import getpass\n",
    "from datetime import datetime\n",
    "from colorama import Fore, Back, Style\n",
    "print(Fore.BLUE+\"Modules Imported \"+Style.RESET_ALL+str(datetime.now().strftime(\"%m/%d/%Y %H:%M \"))+(time.localtime().tm_zone))\n",
    "\n",
    "## ArcGIS portal url and login ###\n",
    "portal = GIS('pro')\n",
    "token = portal._con.token\n",
    "print(Fore.BLUE+\"Logged in as: \"+Style.RESET_ALL+str(portal.properties.user.username))"
   ]
  },
  {
   "cell_type": "markdown",
   "metadata": {
    "heading_collapsed": true
   },
   "source": [
    "# Functions to remove to package"
   ]
  },
  {
   "cell_type": "code",
   "execution_count": null,
   "metadata": {
    "hidden": true
   },
   "outputs": [],
   "source": [
    "def createTitleURL(register_FeatureService):\n",
    "    serviceAppTypeDict = {'1':'Mobile','2':'Mobile Reference','3':'Desktop','4':'Desktop Reference','5':'QuickCapture','6':'Survey123'}\n",
    "    print(Fore.RED+\"Review the following for accuracy, or revise input variables and rerun:\"+Style.RESET_ALL)\n",
    "    if register_FeatureService is True:\n",
    "        featureServiceTitle = \"R9 \"+projectName+\" | \"+servicePurpose+\" | \"+serviceAppTypeDict[str(serviceAppType)]+\" Feature Service\"\n",
    "        featureServiceURL = restURL_prefix+restURL_suffix+\"/FeatureServer\"\n",
    "        featureServiceDescription = str(serviceAppTypeDict[str(serviceAppType)]+\" feature service for \"+servicePurpose+\" on R9 \"+projectName)\n",
    "        featureServiceSnippet = str(serviceAppTypeDict[str(serviceAppType)]+\" feature service for \"+servicePurpose+\" on R9 \"+projectName)\n",
    "        print(Fore.BLUE+\"Feature Service Name: \"+Style.RESET_ALL+featureServiceTitle)\n",
    "        print(Fore.BLUE+\"   URL: \"+Style.RESET_ALL+featureServiceURL)\n",
    "        print(Fore.BLUE+\"   Description: \"+Style.RESET_ALL+featureServiceDescription)\n",
    "    if register_MapService is True:\n",
    "        mapServiceTitle = \"R9 \"+projectName+\" | \"+servicePurpose+\" | \"+serviceAppTypeDict[str(serviceAppType)]+\" Map Service\"\n",
    "        mapServiceURL = restURL_prefix+restURL_suffix+\"/MapServer\"\n",
    "        mapServiceDescription = str(serviceAppTypeDict[str(serviceAppType)]+\"map service for \"+servicePurpose+\" on R9 \"+projectName)\n",
    "        mapServiceSnippet = str(serviceAppTypeDict[str(serviceAppType)]+\"map service for \"+servicePurpose+\" on R9 \"+projectName)\n",
    "        print(Fore.BLUE+\"Map Service Name:     \"+Style.RESET_ALL+mapServiceTitle)\n",
    "        print(Fore.BLUE+\"   URL: \"+Style.RESET_ALL+mapServiceURL)\n",
    "        print(Fore.BLUE+\"   Description: \"+Style.RESET_ALL+mapServiceDescription)\n",
    "    else:\n",
    "        print(\"Error: At least one variable in Input 4 must be set to True)\n",
    "\n",
    "def registerServicesInGeoplatform:\n",
    "    if register_FeatureService is True:\n",
    "    feature_RegisterProperties = {\n",
    "    \"title\":featureServiceTitle,\n",
    "    \"tags\":serviceTags,\n",
    "    \"url\":featureServiceURL,\n",
    "    \"type\":\"Feature Service\",\n",
    "    \"description\":serviceDescription,\n",
    "    \"serviceUsername\":\"proxyconfig\",\n",
    "    \"servicePassword\":getpass.getpass(Fore.RED+\"Enter proxyconfig password for feature service:\"+Style.RESET_ALL),\n",
    "    \"token\":token\n",
    "    }\n",
    "\n",
    "    gis.content.add(data=featureServiceURL,item_properties=feature_RegisterPproperties)\n",
    "\n",
    "    if register_MapService is True:\n",
    "    map_RegisterProperties = {\n",
    "    \"title\":mapServiceTitle,\n",
    "    \"tags\":serviceTags,\n",
    "    \"url\":map_ServiceURL,\n",
    "    \"type\":\"Map Service\",\n",
    "    \"snippet\":serviceSnippet,\n",
    "    \"description\":serviceDescription,\n",
    "    \"serviceUsername\":\"proxyconfig\",\n",
    "    \"servicePassword\":getpass.getpass(Fore.RED+\"Enter proxyconfig password for map service:\"+Style.RESET_ALL),\n",
    "    \"token\":token\n",
    "    }\n",
    "\n",
    "    gis.content.add(data=ServiceURL,item_properties=map_RegisterProperties)\n",
    "\n",
    "    else:\n",
    "        print(\"Error: At least one variable in Input 4 must be set to True)"
   ]
  },
  {
   "cell_type": "markdown",
   "metadata": {
    "heading_collapsed": true
   },
   "source": [
    "# <font color=blue>Project variables</font>\n",
    "Item name(s) in Geoplatform automatically assembled from:\n",
    "- <font color='red'>\"R9\" + projectName + servicePurpose + serviceAppType + \"Feature OR Map Service\"</font>"
   ]
  },
  {
   "cell_type": "code",
   "execution_count": 46,
   "metadata": {
    "hidden": true
   },
   "outputs": [
    {
     "name": "stdout",
     "output_type": "stream",
     "text": [
      "\u001b[34mProject: \u001b[0mTest Project RA\n",
      "\u001b[34mTags: \u001b[0m['Test Project Tag,R9,EPA,START']\n",
      "\u001b[34mRest URL prefix: \u001b[0mhttps://r9data.response.epa.gov/epar9gis/rest/services/\n"
     ]
    }
   ],
   "source": [
    "# Input 1) Project name\n",
    "projectName = \"Test Project RA\"\n",
    "\n",
    "# Input 2) Specify tags to apply to the Geoplatform service item:\n",
    "serviceTags = [\"Test Project Tag,R9,EPA,START\"]\n",
    "\n",
    "# Input 3) REST endpoint prefix (portion of Rest that doesn't change per service item)\n",
    "restURL_prefix = \"https://r9data.response.epa.gov/epar9gis/rest/services/\"\n",
    "\n",
    "### END Global project variables input section\n",
    "print(Fore.BLUE+\"Project: \"+Style.RESET_ALL+projectName)\n",
    "print(Fore.BLUE+\"Tags: \"+Style.RESET_ALL+str(serviceTags))\n",
    "print(Fore.BLUE+\"Rest URL prefix: \"+Style.RESET_ALL+restURL_prefix)"
   ]
  },
  {
   "cell_type": "markdown",
   "metadata": {
    "heading_collapsed": true
   },
   "source": [
    "# <font color = red>Service Variables</font>\n",
    "Edit variables in this cell for each subsequent service registered in Geoplatform on this project.<br>"
   ]
  },
  {
   "cell_type": "code",
   "execution_count": 44,
   "metadata": {
    "hidden": true
   },
   "outputs": [
    {
     "name": "stdout",
     "output_type": "stream",
     "text": [
      "\u001b[31mReview the following for accuracy, or revise input variables and rerun:\u001b[0m\n",
      "\u001b[34mFeature Service Name: \u001b[0mR9 Test Project RA | HHW | Mobile Feature Service\n",
      "\u001b[34m   URL: \u001b[0mhttps://r9data.response.epa.gov/epar9gis/rest/services/GeneralApp_2023/GeneralApp_2023_Mobile/FeatureServer\n",
      "\u001b[34mMap Service Name:     \u001b[0mR9 Test Project RA | HHW | Mobile Map Service\n",
      "\u001b[34m   URL: \u001b[0mhttps://r9data.response.epa.gov/epar9gis/rest/services/GeneralApp_2023/GeneralApp_2023_Mobile/MapServer\n"
     ]
    }
   ],
   "source": [
    "# Input 4) Create FEATURE and/or MAP services - Enter True or False for each.\n",
    "#          Create a map service if you need to access SQL VIEWS in Geoplatform apps (example, for a dashboard indicator).\n",
    "register_FeatureService = True\n",
    "register_MapService = True\n",
    "\n",
    "# Input 5) PURPOSE - Enter short text such as HHW, Recon, Soil Stabilizer, Batteries, etc.\n",
    "servicePurpose = \"HHW\"\n",
    "\n",
    "# Input 6) TYPE of app the service will be loaded in, for Geoplatform item title. Use:\n",
    "#          1 for \"Mobile\" (editable layers for Field Map mobile apps and data collection)\n",
    "#          2 for \"Mobile Reference\" (read-only layers for Field Map mobile apps)\n",
    "#          3 for \"Desktop\" (editable layers for desktop apps - WM, EB, DB, IA, etc.)\n",
    "#          4 for \"Desktop Reference\" (read-only layers for desktop apps - WM, EB, DB, IA, etc.)\n",
    "#          5 for \"QuickCapture\" (editable QuickCapture app layers)\n",
    "#          6 for \"Survey123\"\n",
    "serviceAppType = 1\n",
    "\n",
    "# Input 7) FOLDER/NAME of service in ArcGIS Server Manager\n",
    "#          REST URL is created from Global Input 3 + serviceURL (LEAVE OFF service type)\n",
    "#          Format: GeneralApp_2023/GeneralApp_2023_Mobile\n",
    "restURL_suffix = \"GeneralApp_2023/GeneralApp_2023_Mobile\"\n",
    "\n",
    "### END service variables input section\n",
    "createTitleURL"
   ]
  },
  {
   "cell_type": "markdown",
   "metadata": {},
   "source": [
    "# 1) Register service(s) in Geoplatform\n",
    "- Creates feature and/or map service items in Geoplatform from URL(s) in Server Manager and data provided in input sections."
   ]
  },
  {
   "cell_type": "code",
   "execution_count": null,
   "metadata": {},
   "outputs": [],
   "source": [
    "try:\n",
    "    registerServicesInGeoplatform\n",
    "    print(\"Finished registering service(s)\")\n",
    "except:\n",
    "    print(\"There was a problem registering services, check input variables.\")"
   ]
  }
 ],
 "metadata": {
  "kernelspec": {
   "display_name": "ArcGISPro",
   "language": "Python",
   "name": "python3"
  },
  "language_info": {
   "file_extension": ".py",
   "name": "python",
   "version": "3"
  }
 },
 "nbformat": 4,
 "nbformat_minor": 2
}
