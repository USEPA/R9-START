{
 "cells": [
  {
   "cell_type": "code",
   "execution_count": 1,
   "metadata": {},
   "outputs": [
    {
     "name": "stdout",
     "output_type": "stream",
     "text": [
      "Enter password: ········\n",
      "Enter proxyconfig password:········\n"
     ]
    },
    {
     "data": {
      "text/html": [
       "<div class=\"item_container\" style=\"height: auto; overflow: hidden; border: 1px solid #cfcfcf; border-radius: 2px; background: #f6fafa; line-height: 1.21429em; padding: 10px;\">\n",
       "                    <div class=\"item_left\" style=\"width: 210px; float: left;\">\n",
       "                       <a href='https://EPA.maps.arcgis.com/home/item.html?id=2d672be476904bb19c6e6ea6969bb166' target='_blank'>\n",
       "                        <img src='http://static.arcgis.com/images/desktopapp.png' class=\"itemThumbnail\">\n",
       "                       </a>\n",
       "                    </div>\n",
       "\n",
       "                    <div class=\"item_right\"     style=\"float: none; width: auto; overflow: hidden;\">\n",
       "                        <a href='https://EPA.maps.arcgis.com/home/item.html?id=2d672be476904bb19c6e6ea6969bb166' target='_blank'><b>Red Hill Review Progress Dashboard</b>\n",
       "                        </a>\n",
       "                        <br/><img src='https://EPA.maps.arcgis.com/home/js/jsapi/esri/css/images/item_type_icons/featureshosted16.png' style=\"vertical-align:middle;\">Feature Layer Collection by R9_ER_Admin_EPAEXT\n",
       "                        <br/>Last Modified: February 12, 2022\n",
       "                        <br/>0 comments, 0 views\n",
       "                    </div>\n",
       "                </div>\n",
       "                "
      ],
      "text/plain": [
       "<Item title:\"Red Hill Review Progress Dashboard\" type:Feature Layer Collection owner:R9_ER_Admin_EPAEXT>"
      ]
     },
     "execution_count": 1,
     "metadata": {},
     "output_type": "execute_result"
    }
   ],
   "source": [
    "from arcgis.gis import GIS\n",
    "import getpass\n",
    "\n",
    "usr='R9_ER_Admin_EPAEXT'\n",
    "gis = GIS(\"https://www.arcgis.com\", username=usr)\n",
    "token = gis._con.token\n",
    "#NOTE: Paste URL for registering to GeoPlatform here\n",
    "url=r\"https://r9data.response.epa.gov/epar9gis/rest/services/RedHill/Review_Progress_Dashboard/FeatureServer\"\n",
    "proxyconfigPWRD = getpass.getpass(\"Enter proxyconfig password:\")\n",
    "\n",
    "#NOTE: Update title, tags, and description\n",
    "item_properties = {\n",
    "\"url\":url,\n",
    "\"title\":r\"Red Hill Review Progress Dashboard\",\n",
    "\"tags\":\"R9,EPA,START, Red Hill Drinking Water, Red Hill ER\",\n",
    "\"url\":url,\n",
    "\"type\":\"Feature Service\",\n",
    "\"description\":\"R9 Red Hill Drinking Water Progress Dashboard (ER Cloud) Hawaii December 2021\",\n",
    "\"serviceUsername\":\"proxyconfig\",\n",
    "\"servicePassword\":proxyconfigPWRD,\n",
    "\"token\":token\n",
    "}\n",
    "\n",
    "gis.content.add(data=url,owner=usr,item_properties=item_properties)"
   ]
  },
  {
   "cell_type": "code",
   "execution_count": 2,
   "metadata": {},
   "outputs": [
    {
     "name": "stdout",
     "output_type": "stream",
     "text": [
      "Enter password: ········\n"
     ]
    },
    {
     "ename": "Exception",
     "evalue": "Unable to generate token.\nInvalid username or password.\n(Error Code: 400)",
     "output_type": "error",
     "traceback": [
      "\u001b[0;31m---------------------------------------------------------------------------\u001b[0m\n\u001b[0;31mException\u001b[0m                                 Traceback (most recent call last)",
      "In  \u001b[0;34m[2]\u001b[0m:\nLine \u001b[0;34m5\u001b[0m:     gis = GIS(\u001b[33m\"\u001b[39;49;00m\u001b[33mhttps://www.arcgis.com\u001b[39;49;00m\u001b[33m\"\u001b[39;49;00m, username=usr)\n",
      "File \u001b[0;34mD:\\Program Files\\ArcGIS\\Pro\\bin\\Python\\envs\\arcgispro-py3\\lib\\site-packages\\arcgis\\gis\\__init__.py\u001b[0m, in \u001b[0;32m__init__\u001b[0m:\nLine \u001b[0;34m359\u001b[0m:   \u001b[34mraise\u001b[39;49;00m e\n",
      "File \u001b[0;34mD:\\Program Files\\ArcGIS\\Pro\\bin\\Python\\envs\\arcgispro-py3\\lib\\site-packages\\arcgis\\gis\\__init__.py\u001b[0m, in \u001b[0;32m__init__\u001b[0m:\nLine \u001b[0;34m343\u001b[0m:   trust_env=kwargs.get(\u001b[33m\"\u001b[39;49;00m\u001b[33mtrust_env\u001b[39;49;00m\u001b[33m\"\u001b[39;49;00m, \u001b[34mNone\u001b[39;49;00m))\n",
      "File \u001b[0;34mD:\\Program Files\\ArcGIS\\Pro\\bin\\Python\\envs\\arcgispro-py3\\lib\\site-packages\\arcgis\\gis\\_impl\\_portalpy.py\u001b[0m, in \u001b[0;32m__init__\u001b[0m:\nLine \u001b[0;34m173\u001b[0m:   \u001b[36mself\u001b[39;49;00m.get_properties(\u001b[34mTrue\u001b[39;49;00m)\n",
      "File \u001b[0;34mD:\\Program Files\\ArcGIS\\Pro\\bin\\Python\\envs\\arcgispro-py3\\lib\\site-packages\\arcgis\\gis\\_impl\\_portalpy.py\u001b[0m, in \u001b[0;32mget_properties\u001b[0m:\nLine \u001b[0;34m1138\u001b[0m:  \u001b[34mraise\u001b[39;49;00m e\n",
      "File \u001b[0;34mD:\\Program Files\\ArcGIS\\Pro\\bin\\Python\\envs\\arcgispro-py3\\lib\\site-packages\\arcgis\\gis\\_impl\\_portalpy.py\u001b[0m, in \u001b[0;32mget_properties\u001b[0m:\nLine \u001b[0;34m1126\u001b[0m:  resp = \u001b[36mself\u001b[39;49;00m.con.post(path, \u001b[36mself\u001b[39;49;00m._postdata(), ssl=\u001b[34mTrue\u001b[39;49;00m)\n",
      "File \u001b[0;34mD:\\Program Files\\ArcGIS\\Pro\\bin\\Python\\envs\\arcgispro-py3\\lib\\site-packages\\arcgis\\gis\\_impl\\_con\\_connection.py\u001b[0m, in \u001b[0;32mpost\u001b[0m:\nLine \u001b[0;34m632\u001b[0m:   \u001b[34melif\u001b[39;49;00m token_as_header == \u001b[34mFalse\u001b[39;49;00m \u001b[35mand\u001b[39;49;00m \u001b[36mself\u001b[39;49;00m.token \u001b[35mis\u001b[39;49;00m \u001b[35mnot\u001b[39;49;00m \u001b[34mNone\u001b[39;49;00m: \u001b[37m#as ?token=\u001b[39;49;00m\n",
      "File \u001b[0;34mD:\\Program Files\\ArcGIS\\Pro\\bin\\Python\\envs\\arcgispro-py3\\lib\\site-packages\\arcgis\\gis\\_impl\\_con\\_connection.py\u001b[0m, in \u001b[0;32mtoken\u001b[0m:\nLine \u001b[0;34m1038\u001b[0m:  \u001b[36mself\u001b[39;49;00m._token = \u001b[36mself\u001b[39;49;00m._enterprise_token()\n",
      "File \u001b[0;34mD:\\Program Files\\ArcGIS\\Pro\\bin\\Python\\envs\\arcgispro-py3\\lib\\site-packages\\arcgis\\gis\\_impl\\_con\\_connection.py\u001b[0m, in \u001b[0;32m_enterprise_token\u001b[0m:\nLine \u001b[0;34m1155\u001b[0m:  add_token=\u001b[34mFalse\u001b[39;49;00m)\n",
      "File \u001b[0;34mD:\\Program Files\\ArcGIS\\Pro\\bin\\Python\\envs\\arcgispro-py3\\lib\\site-packages\\arcgis\\gis\\_impl\\_con\\_connection.py\u001b[0m, in \u001b[0;32mpost\u001b[0m:\nLine \u001b[0;34m720\u001b[0m:   force_bytes=kwargs.pop(\u001b[33m'\u001b[39;49;00m\u001b[33mforce_bytes\u001b[39;49;00m\u001b[33m'\u001b[39;49;00m, \u001b[34mFalse\u001b[39;49;00m))\n",
      "File \u001b[0;34mD:\\Program Files\\ArcGIS\\Pro\\bin\\Python\\envs\\arcgispro-py3\\lib\\site-packages\\arcgis\\gis\\_impl\\_con\\_connection.py\u001b[0m, in \u001b[0;32m_handle_response\u001b[0m:\nLine \u001b[0;34m514\u001b[0m:   \u001b[36mself\u001b[39;49;00m._handle_json_error(data[\u001b[33m'\u001b[39;49;00m\u001b[33merror\u001b[39;49;00m\u001b[33m'\u001b[39;49;00m], errorcode)\n",
      "File \u001b[0;34mD:\\Program Files\\ArcGIS\\Pro\\bin\\Python\\envs\\arcgispro-py3\\lib\\site-packages\\arcgis\\gis\\_impl\\_con\\_connection.py\u001b[0m, in \u001b[0;32m_handle_json_error\u001b[0m:\nLine \u001b[0;34m536\u001b[0m:   \u001b[34mraise\u001b[39;49;00m \u001b[36mException\u001b[39;49;00m(errormessage)\n",
      "\u001b[0;31mException\u001b[0m: Unable to generate token.\nInvalid username or password.\n(Error Code: 400)\n\u001b[0;31m---------------------------------------------------------------------------\u001b[0m"
     ]
    }
   ],
   "source": [
    "from arcgis.gis import GIS\n",
    "import getpass\n",
    "\n",
    "usr='R9_ER_Admin_EPAEXT'\n",
    "gis = GIS(\"https://www.arcgis.com\", username=usr)\n",
    "token = gis._con.token\n",
    "url=r\"https://r9data.response.epa.gov/epar9gis/rest/services/RedHill/RedHill_FieldMapsLayers/FeatureServer\"\n",
    "proxyconfigPWRD = getpass.getpass(\"Enter proxyconfig password:\")\n",
    "\n",
    "item_properties = {\n",
    "\"url\":url,\n",
    "\"title\":r\"Red Hill feature service for Field Maps\",\n",
    "\"tags\":\"R9,EPA,START, Red Hill Drinking Water, Red Hill ER\",\n",
    "\"url\":url,\n",
    "\"type\":\"Feature Service\",\n",
    "\"description\":\"R9 Red Hill Drinking Water feature service for Field Maps for response in Hawaii December 2021\",\n",
    "\"serviceUsername\":\"proxyconfig\",\n",
    "\"servicePassword\":proxyconfigPWRD,\n",
    "\"token\":token\n",
    "}\n",
    "\n",
    "gis.content.add(data=url,owner=usr,item_properties=item_properties)"
   ]
  },
  {
   "cell_type": "code",
   "execution_count": null,
   "metadata": {},
   "outputs": [],
   "source": []
  }
 ],
 "metadata": {
  "kernelspec": {
   "display_name": "ArcGISPro",
   "language": "Python",
   "name": "python3"
  },
  "language_info": {
   "file_extension": ".py",
   "name": "python",
   "version": "3"
  }
 },
 "nbformat": 4,
 "nbformat_minor": 2
}
