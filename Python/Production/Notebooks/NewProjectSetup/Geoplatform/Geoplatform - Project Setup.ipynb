{
 "cells": [
  {
   "cell_type": "markdown",
   "id": "01530799",
   "metadata": {},
   "source": [
    "# <font color='red'>Geoplatform - Project Setup</font>\n",
    "<b><u>Contents:</b></u><br>\n",
    "1) Register a service URL to the specified Portal<br>\n",
    "2) Create Geoplatform group<br>\n",
    "3) Add service item to group(s)<br>\n",
    "4) Note on making field map copy<br>\n",
    "<font color='blue' size='2'>Note:  Always run cells with blue headers before running any other processes. Many cells depend on variables or output from previous cells.</font>"
   ]
  },
  {
   "cell_type": "markdown",
   "id": "31f1d0c2",
   "metadata": {
    "heading_collapsed": true
   },
   "source": [
    "# <font color=blue>Import modules</font>"
   ]
  },
  {
   "cell_type": "code",
   "execution_count": null,
   "id": "d488078f",
   "metadata": {
    "hidden": true
   },
   "outputs": [],
   "source": [
    "import os, sys\n",
    "import arcgis\n",
    "from arcgis.gis import GIS\n",
    "from arcgis.mapping import WebMap\n",
    "import getpass\n",
    "from colorama import Fore, Back, Style\n",
    "print(Fore.BLUE+\"Modules Imported \"+Style.RESET_ALL+str(datetime.now().strftime(\"%m/%d/%Y %H:%M \"))+(time.localtime().tm_zone))"
   ]
  },
  {
   "cell_type": "markdown",
   "id": "42374485",
   "metadata": {
    "heading_collapsed": true
   },
   "source": [
    "# <font color=blue>Project variables</font>"
   ]
  },
  {
   "cell_type": "code",
   "execution_count": null,
   "id": "e7b5b9a5",
   "metadata": {
    "hidden": true
   },
   "outputs": [],
   "source": [
    "### INPUT CELL ###\n",
    "\n",
    "# Target portal URL\n",
    "portalURL = 'https://epa.maps.arcgis.com/'\n",
    "\n",
    "# Specify a project name:\n",
    "projectName = 'Project Name'\n",
    "\n",
    "# Specify tag(s) for items:\n",
    "projectTags = ['Project Tag,EPA,R9,START']\n",
    "\n",
    "### INPUT SECTION END ###"
   ]
  },
  {
   "cell_type": "markdown",
   "id": "3b01a521",
   "metadata": {
    "heading_collapsed": true
   },
   "source": [
    "# <font color=blue>Connect to Portal</font>\n",
    "- <font color=red>Important:</font>  Connection method in this script requires you to have ArcGIS Pro logged into the correct ArcGIS Online Organization target (U.S. EPA Geoplatform)."
   ]
  },
  {
   "cell_type": "code",
   "execution_count": null,
   "id": "f79d12a4",
   "metadata": {
    "hidden": true
   },
   "outputs": [],
   "source": [
    "### ArcGIS portal url and login ###\n",
    "portal = GIS('pro')\n",
    "token = portal._con.token\n",
    "print(Fore.BLUE+\"Logged in as: \"+Style.RESET_ALL+str(portal.properties.user.username))"
   ]
  },
  {
   "cell_type": "markdown",
   "id": "b54b2c3a",
   "metadata": {
    "heading_collapsed": true
   },
   "source": [
    "# 1) Register a service URL to the specified Portal\n",
    "- Creates an item in Geoplatform referencing an ERTFOS rest URL\n",
    "- Adds project tags and a description"
   ]
  },
  {
   "cell_type": "code",
   "execution_count": null,
   "id": "7ed7c784",
   "metadata": {
    "hidden": true
   },
   "outputs": [],
   "source": [
    "### INPUT PARAMETERS CELL ###\n",
    "\n",
    "# Name for the item in Geoplatform:\n",
    "serviceTitle = 'R9 Project Mobile Service' # 'enter a name for the service item to be registered in Geoplatform'\n",
    "\n",
    "# URL of the service in ERTFOS:\n",
    "serviceURL = 'https://r9data....../FeatureServer' # 'paste rest URL for feature service here'\n",
    "\n",
    "# Item description:\n",
    "serviceDescription = 'Service description text' # 'enter item description here'\n",
    "\n",
    "# Item snippet:\n",
    "serviceSnippet = \"Item snippet text\"\n",
    "\n",
    "### INPUT SECTION END ###"
   ]
  },
  {
   "cell_type": "code",
   "execution_count": null,
   "id": "07e1fcfa",
   "metadata": {
    "hidden": true
   },
   "outputs": [],
   "source": [
    "register_properties = {\n",
    "\"title\":serviceTitle,\n",
    "\"tags\":projectTags,\n",
    "\"url\":serviceURL,\n",
    "\"type\":\"Feature Service\",\n",
    "\"description\":serviceDescription,\n",
    "\"snippet\":serviceSnippet,\n",
    "\"serviceUsername\":\"ServerManagerUsername\",\n",
    "\"servicePassword\":getpass.getpass(Fore.RED+\"Enter server manager password to be stored in item:\"+Style.RESET_ALL),\n",
    "\"token\":token\n",
    "}\n",
    "newLyr_Item = portal.content.add(data=ServiceURL,item_properties=register_properties, folder=output_folder,\n",
    "                                            thumbnail = GroupImage)\n",
    "newLyr_Item\n",
    "newLyr_ItemID = newLyr_Item.id\n",
    "print(Fore.BLUE+\"Item ID:  \"+Style.RESET_ALL+newLyr_ItemID)"
   ]
  },
  {
   "cell_type": "markdown",
   "id": "5ba1643a",
   "metadata": {
    "heading_collapsed": true
   },
   "source": [
    "# 2) Create Geoplatform group\n",
    "- Creates new Geoplatform group(s) based on a list of suffixes you provide\n",
    "- Adds project tags and description to the group\n",
    "- Adds default list of usernames to the group\n",
    "- Turns on deletion projection for the new group(s)\n",
    "- Reassigns ownership of the group(s) to the GIS user specified in the \"Move item\" section"
   ]
  },
  {
   "cell_type": "code",
   "execution_count": null,
   "id": "75896171",
   "metadata": {
    "hidden": true
   },
   "outputs": [],
   "source": [
    "### INPUT PARAMETER CELL ###\n",
    "\n",
    "# Can specify a list of groups, each list name in variable groupList will create a group with project name and suffix:\n",
    "groupList = ['Group'] # Default is 'Group' for just one project group, or list other suffixes for other groups.\n",
    "\n",
    "# Provide a description:\n",
    "groupDescription = 'Description text for group created using the API for Python'\n",
    "\n",
    "# Group snippet:\n",
    "groupSnippet = 'Snippet text for group'\n",
    "\n",
    "# Base user list:\n",
    "baseUserList = ['User.Name1_EPAEXT','User.Name2_EPAEXT','User.Name3_EPAEXT', \\\n",
    "                'User.Name4_EPAEXT','User.Name5_EPAEXT','User.Name6_EPAEXT']\n",
    "\n",
    "# Filepath to an image file for the group:\n",
    "groupImage = r'E:/ContractFolder/ProjectFolder/Data/Project_Data/Rasters/GeoPlatformGroupPic.JPG' # example: r'C:/PythonTemp/TestImage.jpg'\n",
    "\n",
    "### INPUT SECTION END ###"
   ]
  },
  {
   "cell_type": "code",
   "execution_count": null,
   "id": "dee34305",
   "metadata": {
    "hidden": true,
    "scrolled": true
   },
   "outputs": [],
   "source": [
    "def create_groups():\n",
    "shareGroupList = [] # Blank list for appending group id's    \n",
    "    for groupType in groupList:\n",
    "        geocaching_group = portal.groups.create(title= projectName+' '+groupType,\n",
    "                                            tags = projectTags,\n",
    "                                            description = projectName+': '+groupDescription,\n",
    "                                            snippet = projectName+': '+groupSnippet,\n",
    "                                            access = 'private',\n",
    "                                            is_invitation_only = 'True',\n",
    "                                            # protected=True,\n",
    "                                            thumbnail = groupImage)\n",
    "        geocaching_group.add_users(baseUserList)\n",
    "        # geocaching_group.reassign_to(moveToUserName)\n",
    "        print('CREATED:  '+Fore.BLUE+projectName+' '+groupType+Style.RESET_ALL+'  GROUP ID:  '+Fore.BLUE+geocaching_group.groupid+Style.RESET_ALL)\n",
    "        shareGroupList.append(geocaching_group.groupid)\n",
    "create_groups()\n",
    "print(Fore.GREEN+\"END\"+Style.RESET_ALL)"
   ]
  },
  {
   "cell_type": "markdown",
   "id": "1e60e846",
   "metadata": {
    "heading_collapsed": true
   },
   "source": [
    "# 3) Share new service item to group(s)"
   ]
  },
  {
   "cell_type": "code",
   "execution_count": null,
   "id": "3b7e00a3",
   "metadata": {
    "hidden": true
   },
   "outputs": [],
   "source": [
    "### INPUT PARAMETERS CELL ###\n",
    "\n",
    "groupMembersEditItem = False # Sets whether group members can edit the item.\n",
    "\n",
    "### INPUT SECTION END ###"
   ]
  },
  {
   "cell_type": "code",
   "execution_count": null,
   "id": "97c39201",
   "metadata": {
    "hidden": true
   },
   "outputs": [],
   "source": [
    "newLyr_Item.share(everyone=False,org=False,groups=shareGroupList,allow_members_to_edit=groupMembersEditItem)"
   ]
  },
  {
   "cell_type": "markdown",
   "id": "115f24fb",
   "metadata": {
    "heading_collapsed": true
   },
   "source": [
    "# 4) Optional - Next step use the Copy Web Map Script\n",
    "- if saving time by starting with another web map as a template for symbology, smart forms, etc."
   ]
  }
 ],
 "metadata": {
  "kernelspec": {
   "display_name": "Python 3 (ipykernel)",
   "language": "python",
   "name": "python3"
  },
  "language_info": {
   "codemirror_mode": {
    "name": "ipython",
    "version": 3
   },
   "file_extension": ".py",
   "mimetype": "text/x-python",
   "name": "python",
   "nbconvert_exporter": "python",
   "pygments_lexer": "ipython3",
   "version": "3.11.8"
  }
 },
 "nbformat": 4,
 "nbformat_minor": 5
}
