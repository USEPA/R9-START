{
 "cells": [
  {
   "cell_type": "markdown",
   "metadata": {},
   "source": [
    "#  <font color='red'>Geoplatform - Create and Manage Groups for Fires</font>\n",
    "<b><u>Contents:</b></u><br>\n",
    "1) Create Geoplatform groups for fire ERs.  Generates new Geoplatform groups for wildfires response based on specified names and usernames.<br>\n",
    "2) Search for Geoplatform groups using keywords in Group titles.<br>\n",
    "3) Create a list of users in each group searched in Step 2.  Primarily used during decommissioning to list all usernames that may need to be deactivated afterwards.  Review the list of groups to ensure it is complete, other groups may have been created or renamed during the project that do not include the keywords.\n",
    "\n",
    "<font color='blue' size='2'>Note:  Always run cells with blue headers before running any other processes."
   ]
  },
  {
   "cell_type": "markdown",
   "metadata": {
    "heading_collapsed": true
   },
   "source": [
    "#  <font color=blue>Import modules</font>"
   ]
  },
  {
   "cell_type": "code",
   "execution_count": null,
   "metadata": {
    "hidden": true
   },
   "outputs": [],
   "source": [
    "import arcgis\n",
    "import os, sys\n",
    "from arcgis.gis import GIS\n",
    "from colorama import Fore, Back, Style\n",
    "print(Fore.BLUE+\"Modules Imported \"+Style.RESET_ALL+str(datetime.now().strftime(\"%m/%d/%Y %H:%M \"))+(time.localtime().tm_zone))"
   ]
  },
  {
   "cell_type": "markdown",
   "metadata": {
    "heading_collapsed": true
   },
   "source": [
    "# <font color=blue>Project variables</font>"
   ]
  },
  {
   "cell_type": "code",
   "execution_count": null,
   "metadata": {
    "hidden": true
   },
   "outputs": [],
   "source": [
    "### INPUT SECTION ###\n",
    "\n",
    "# Input 1) Provide username that will be group owner:\n",
    "groupOwner = 'User.Name_EPAEXT' # If not CONNECTING (in next cell) with an admin account, then owner must be the same as username currently logged into Pro.\n",
    "\n",
    "# Input 2) Specify a fire name.  Will be the prefix of each group name:\n",
    "projectName = 'R9 Project Name'\n",
    "\n",
    "# Input 3) Specify group suffixes (get added after the projectName, these are standard groups for R9 fires):\n",
    "groupList = [' - Ops Group',' - HHW Group',' - Recon Group', \\\n",
    "            ' - StoryMap Review Group',' - StoryMap Editing Group', \\\n",
    "            ' - PIO/Planning Group',' - QA/QC Group',' - Admin Group']\n",
    "\n",
    "# Input 4) Provide keywords for tags (hint, always include 'R9','EPA','START' plus an overall 'YYYY California Fires'):\n",
    "tagKeywordList = ['Maui Fires 2023','R9','EPA','START']\n",
    "             \n",
    "# Input 5) Base user list (only those to be added to all groups like admins and GIS users, add personnel to specific groups manually):\n",
    "baseUserList = ['User.Name1_EPAEXT','User.Name2_EPAEXT','User.Name3_EPAEXT', \\\n",
    "                'User.Name4_EPAEXT','User.Name5_EPAEXT','User.Name6_EPAEXT', \\\n",
    "                'User.Name7_EPAEXT','User.Name8_EPAEXT','User.Name9_EPAEXT']\n",
    "                        \n",
    "# Input 6) Path to group thumbnail for the project:\n",
    "thumbnailPath = 'E:/ProgramFolder/ProjectFolder/Images/ThumbnailName.png'\n",
    "    \n",
    "### INPUT SECTION END ###\n",
    "\n",
    "print(\"Groups to be created in Geoplatform:\")\n",
    "for gn in groupList:\n",
    "    print(Fore.BLUE+projectName+gn+Style.RESET_ALL)"
   ]
  },
  {
   "cell_type": "markdown",
   "metadata": {
    "heading_collapsed": true
   },
   "source": [
    "# <font color=blue>Connect to Portal</font>\n",
    "- <font color=red>Important:</font>  Connection method in this script requires you to have ArcGIS Pro logged into the correct ArcGIS Online Organization target (U.S. EPA Geoplatform)."
   ]
  },
  {
   "cell_type": "code",
   "execution_count": null,
   "metadata": {
    "hidden": true
   },
   "outputs": [],
   "source": [
    "### ArcGIS portal url and login ###\n",
    "portal = GIS('pro')\n",
    "token = portal._con.token\n",
    "print(Fore.BLUE+\"Logged in as: \"+Style.RESET_ALL+str(portal.properties.user.username))"
   ]
  },
  {
   "cell_type": "markdown",
   "metadata": {
    "heading_collapsed": true
   },
   "source": [
    "# 1) Create Groups\n",
    "Create groups based on input provided above.  Then adds users specified and changes owner.<br>\n",
    "<font color=RED><b>Developer notes:</font></b>\n",
    "- The <font color=BLUE>GroupManager</font> class is being used to create the groups (called through \"<font color=BLUE>groups</font>\" property).  This is documented in the separate GroupManager section of the API for Python.\n",
    "- The <font color=BLUE>Group</font> class is being used to add users (.add_users) and change group owner (.reassign_to).  This is documented in the Group section of API for Python."
   ]
  },
  {
   "cell_type": "code",
   "execution_count": null,
   "metadata": {
    "hidden": true
   },
   "outputs": [],
   "source": [
    "def create_groups():\n",
    "    for groupType in groupList:\n",
    "        geocaching_group = portal.groups.create(title= projectName+groupType,\n",
    "                                            tags = tagKeywordList,\n",
    "                                            description = groupType+' for the EPA '+projectName,\n",
    "                                            snippet = groupType+' for the EPA '+projectName,\n",
    "                                            access = 'private',\n",
    "                                            is_invitation_only = 'True',\n",
    "                                            thumbnail = str(thumbnailPath))\n",
    "        geocaching_group.add_users(baseUserList)         \n",
    "        print(\"Created:  \"+Fore.GREEN+projectName+groupType+Style.RESET_ALL)\n",
    "        try\n",
    "            geocaching_group.reassign_to(groupOwner)\n",
    "            print(\"   Owner set to:  \"+groupOwner)\n",
    "        except\n",
    "            print(Fore.RED+\"Could not change owner to username specified in input section above.  Change owner manually.\"+Style.RESET.ALL)\n",
    "\n",
    "create_groups()\n",
    "             \n",
    "print(Fore.GREEN+\"END\"+Style.RESET_ALL)"
   ]
  },
  {
   "cell_type": "markdown",
   "metadata": {
    "heading_collapsed": true
   },
   "source": [
    "# 2) Search for Groups using keywords in group title"
   ]
  },
  {
   "cell_type": "code",
   "execution_count": null,
   "metadata": {
    "hidden": true
   },
   "outputs": [],
   "source": [
    "### INPUT SECTION ###\n",
    "\n",
    "# Enter project keywords that will be searched in group titles (in quotes below):\n",
    "searchKeyword = \"Example keywords\"\n",
    "\n",
    "### INPUT SECTION END ###\n",
    "\n",
    "print(\"Group title search keywords: \"+Fore.BLUE+searchKeyword+Style.RESET_ALL)\n"
   ]
  },
  {
   "cell_type": "code",
   "execution_count": null,
   "metadata": {
    "hidden": true
   },
   "outputs": [],
   "source": [
    "# Uses search function to find all potential project-related groups based on keywords provided above.\n",
    "\n",
    "searchGroups = portal.groups.search(query = searchKeyword)\n",
    "\n",
    "for groupObject in searchGroups:\n",
    "    print(\"Group: \"+Fore.BLUE+groupObject.title+Style.RESET_ALL)\n",
    "    print(Fore.RED+\"       Owner: \"+Style.RESET_ALL+groupObject.owner)\n",
    "    print(Fore.RED+\"       Group ID: \"+Style.RESET_ALL+groupObject.groupid)\n",
    "\n",
    "print(Fore.GREEN+\"END\"+Style.RESET_ALL)"
   ]
  },
  {
   "cell_type": "markdown",
   "metadata": {
    "heading_collapsed": true
   },
   "source": [
    "# 3) Generate lists of users for each group found in step 2\n",
    "- First run step 2 above to define the searchGroups variable.\n",
    "- Lists Group name and usernames for Group owner, admins, and users. "
   ]
  },
  {
   "cell_type": "code",
   "execution_count": null,
   "metadata": {
    "hidden": true
   },
   "outputs": [],
   "source": [
    "#Print group names, owners, admins, and user lists.\n",
    "\n",
    "for groupObject in searchGroups:\n",
    "    print(\"Group: \"+Fore.BLUE+groupObject.title+Style.RESET_ALL)\n",
    "    memberList = groupObject.get_members()\n",
    "    print(Fore.RED+\"   Owner: \"+Style.RESET_ALL+memberList[\"owner\"])\n",
    "    print(Fore.RED+\"   Admins:\"+Style.RESET_ALL)\n",
    "    print(memberList[\"admins\"])\n",
    "    print(Fore.RED+\"   Users: \"+Style.RESET_ALL)\n",
    "    print(memberList[\"users\"])\n",
    "\n",
    "print(Fore.GREEN+\"END\"+Style.RESET_ALL)"
   ]
  }
 ],
 "metadata": {
  "kernelspec": {
   "display_name": "Python 3 (ipykernel)",
   "language": "python",
   "name": "python3"
  },
  "language_info": {
   "codemirror_mode": {
    "name": "ipython",
    "version": 3
   },
   "file_extension": ".py",
   "mimetype": "text/x-python",
   "name": "python",
   "nbconvert_exporter": "python",
   "pygments_lexer": "ipython3",
   "version": "3.11.8"
  }
 },
 "nbformat": 4,
 "nbformat_minor": 2
}
