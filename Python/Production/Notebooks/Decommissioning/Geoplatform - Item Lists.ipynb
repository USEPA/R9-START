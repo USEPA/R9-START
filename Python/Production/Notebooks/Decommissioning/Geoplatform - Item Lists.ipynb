{
 "cells": [
  {
   "cell_type": "markdown",
   "id": "5f81b4b1",
   "metadata": {},
   "source": [
    "# <font color='red'>Geoplatform - Generate Lists</font>\n",
    "<b><u>Contents:</b></u><br>\n",
    "1) List Geoplatform Web Maps and Web Scenes<br>\n",
    "2) List Geoplatform Services<br>\n",
    "3) List Geoplatform Hosted Services<br>\n",
    "4) List Geoplatform Apps<br>\n",
    "5) List Geoplatform Hosted Data, Forms, Files, Images, Geoprocessing<br>\n",
    "<font color='blue' size='2'>Note:  Always run cells with blue headers before running any other processes."
   ]
  },
  {
   "cell_type": "markdown",
   "id": "90f14657",
   "metadata": {
    "heading_collapsed": true
   },
   "source": [
    "# <font color=blue>Import modules</font>"
   ]
  },
  {
   "cell_type": "code",
   "execution_count": null,
   "id": "b5ea55bd",
   "metadata": {
    "hidden": true
   },
   "outputs": [],
   "source": [
    "import os, sys\n",
    "import arcgis\n",
    "from arcgis.gis import GIS\n",
    "import json\n",
    "from json import loads\n",
    "import csv\n",
    "from datetime import date\n",
    "from datetime import datetime\n",
    "from colorama import Fore, Back, Style\n",
    "print(Fore.BLUE+\"Modules Imported \"+Style.RESET_ALL+str(datetime.now().strftime(\"%m/%d/%Y %H:%M \"))+(time.localtime().tm_zone))"
   ]
  },
  {
   "cell_type": "markdown",
   "id": "4fa77bff",
   "metadata": {
    "heading_collapsed": true
   },
   "source": [
    "# <font color=blue>Project variables</font>"
   ]
  },
  {
   "cell_type": "code",
   "execution_count": null,
   "id": "6f4efd87",
   "metadata": {
    "hidden": true
   },
   "outputs": [],
   "source": [
    "### INPUT CELL ###\n",
    "# Target portal URL\n",
    "portalURL = 'https://epa.maps.arcgis.com/'\n",
    "\n",
    "# Specify a project name, will be concatentated to output folder path and csv files, recommend no spaces:\n",
    "projectName = 'ExampleProjectName'\n",
    "\n",
    "# Specify an output directory for csv files, only edit the \"outputFolder\" variable:\n",
    "folder_datestamp = str(datetime.now().strftime(\"_%Y%m%d\")) #Do not edit\n",
    "folder_timestamp = str(datetime.now().strftime(\"%H%M\")) #Do not edit\n",
    "outputFolder=str('E:\\\\START\\\\MauiFire2023\\\\Geoplatform\\\\PythonBackups\\\\'+projectName+folder_datestamp+'\\\\'+folder_timestamp+'\\\\') #format example: str('C:\\\\PythonTemp\\\\')\n",
    "\n",
    "# Provide keywords to search Geoplatform item titles and tags:\n",
    "tagKeywordList = ['Maui Fires 2023','Maui Fires','Maui Fire']\n",
    "print(Fore.BLUE+\"Search keywords: \"+Style.RESET_ALL+str(tagKeywordList))\n",
    "\n",
    "# Provide list(s) of Geoplatform user names relevant to the project (for searching user content):\n",
    "usersR9 = ['User1_EPAEXT','User2_EPAEXT','User3_EPAEXT','User4_EPAEXT', \\\n",
    "           'User5_EPAEXT',]\n",
    "\n",
    "usersSTART = ['User6_EPAEXT','User7_EPAEXT','User8_EPAEXT', \\\n",
    "              'User9_EPAEXT','User10_EPAEXT','User11_EPAEXT','User12_EPAEXT', \\\n",
    "              'User13_EPAEXT','User14_EPAEXT']\n",
    "\n",
    "usersR9EPA = ['User1_EPA','User2_EPA']\n",
    "            \n",
    "usersR9TC = ['User15_EPAEXT','User16_EPAEXT','User17_EPAEXT','User18_EPAEXT', \\\n",
    "             'User19_EPAEXT','User20_EPAEXT']\n",
    "\n",
    "usersOther = ['User21_EPAEXT']\n",
    "\n",
    "# Choose userNames to assebmle from lists above: 1 = R9 START GIS, 2 = All START GIS, 3 = R9 EPA, 4 = R9 Tech Center, 5 = Other\n",
    "usersOptions = (1,2,3,4,5) # enter all numbers that apply from list above.  Example: (1,3)\n",
    "\n",
    "### INPUT SECTION END###"
   ]
  },
  {
   "cell_type": "code",
   "execution_count": null,
   "id": "6595bf05",
   "metadata": {
    "hidden": true
   },
   "outputs": [],
   "source": [
    "#Functions to assemble list of userNames from numeric options set in usersOptions variable:\n",
    "def appendUsernamesList():\n",
    "    usersDictionary = {1 : usersR9, 2 : usersSTART, 3 : usersR9EPA, 4 : usersR9TC, 5 : usersOther}\n",
    "    userNamesCache =[]\n",
    "    for usersOption in usersOptions:\n",
    "        appendNames = userNamesCache+(usersDictionary[usersOption])\n",
    "        userNamesCache = appendNames\n",
    "    return userNamesCache\n",
    "userNames = appendUsernamesList()\n",
    "print(Fore.BLUE+\"Username list: \"+Style.RESET_ALL+str(userNames))\n",
    "\n",
    "#Checks if the required directory exists, and creates it if not: \n",
    "print(Fore.BLUE+\"Output folder: \"+Style.RESET_ALL+outputFolder)\n",
    "def createOutputDirectories():\n",
    "    if os.path.isdir(outputFolder) is True:\n",
    "        print(Fore.RED+\"Directory exists: \"+Style.RESET_ALL+str(outputFolder))\n",
    "    elif os.path.isdir(outputFolder) is False:\n",
    "        os.makedirs(outputFolder)\n",
    "        print(Fore.RED+\"Directory created: \"+Style.RESET_ALL+str(outputFolder))\n",
    "    else:\n",
    "        print(Fore.RED+\"Problem with outputFolder variable.\"+Style.RESET_ALL)\n",
    "createOutputDirectories()"
   ]
  },
  {
   "cell_type": "markdown",
   "id": "54b52632",
   "metadata": {
    "heading_collapsed": true
   },
   "source": [
    "# <font color=blue>Connect to Portal</font>\n",
    "- <font color=red>Important:</font>  Connection method in this script requires you to have ArcGIS Pro logged into the correct ArcGIS Online Organization target (U.S. EPA Geoplatform)."
   ]
  },
  {
   "cell_type": "code",
   "execution_count": null,
   "id": "c6b270ae",
   "metadata": {
    "hidden": true
   },
   "outputs": [],
   "source": [
    "### ArcGIS portal url and login ###\n",
    "portal = GIS('pro')\n",
    "token = portal._con.token\n",
    "print(Fore.BLUE+\"Logged in as: \"+Style.RESET_ALL+str(portal.properties.user.username))"
   ]
  },
  {
   "cell_type": "markdown",
   "id": "44d4917f",
   "metadata": {
    "heading_collapsed": true
   },
   "source": [
    "# 1) List Geoplatform Web Maps and Web Scenes\n",
    "DESCRIPTION: Loops through content (including subfolders) of specified Geoplatform usernames to generate a list of Geoplatform WEB MAPS that contain specified keywords in item tags and titles."
   ]
  },
  {
   "cell_type": "code",
   "execution_count": null,
   "id": "626cd260",
   "metadata": {
    "hidden": true
   },
   "outputs": [],
   "source": [
    "#Cell 1 of 2:  Create (or overwrite) csv file in the output directory, and write the headers:\n",
    "dateForFilename=date.today()\n",
    "csv1 = open(outputFolder+\"2_\"+projectName+\"_WebMapList_\"+str(dateForFilename)+\".csv\", \"w\")\n",
    "csv1.write(\"Web Map or Scene,Map Owner,Item Type,Item ID,Sharing\" + '\\n')\n",
    "print(Fore.BLUE+\"Output WebMapList CSV: \"+Style.RESET_ALL+outputFolder+\"2_\"+projectName+\"_WebMapList_\"+str(dateForFilename)+\".csv\")"
   ]
  },
  {
   "cell_type": "code",
   "execution_count": null,
   "id": "76261d38",
   "metadata": {
    "hidden": true
   },
   "outputs": [],
   "source": [
    "#Cell 2 of 2:  List Web Maps main functions:\n",
    "\n",
    "def loopKeywords(item): # Search Geoplatform item titles and tags for key words.\n",
    "    found=''\n",
    "    for tagKeyword in tagKeywordList:\n",
    "        if tagKeyword in item.title or tagKeyword in item.tags:\n",
    "            found=1\n",
    "            break  \n",
    "    return found\n",
    "\n",
    "def writeFoundItemToCSV(item,userName): # If web map found, write details to specified CSV\n",
    "    print (Fore.RED+\"  Found: \"+Style.RESET_ALL,item.title,Fore.RED+\"| Tags:\"+Style.RESET_ALL,item.tags)\n",
    "    try:\n",
    "        # if found item print details\n",
    "        joinInput=(item.title,str(userName),item.type,item.id,(str(item.shared_with).replace(',',\" & \")))\n",
    "        #print(\", \".join(joinInput) + '\\n'),\n",
    "        csv1.write(\", \".join(joinInput) + '\\n')\n",
    "    except Exception as e:\n",
    "        print (\"Error with:  \"+Back.RED+str(e)+Style.RESET_ALL)\n",
    "\n",
    "def get_web_maps(): # Search Geoplatform users' root folder and subfolders\n",
    "    for userName in userNames:\n",
    "        print(\"Searching content for user:\",Back.GREEN+userName+Style.RESET_ALL,\"...\")\n",
    "        user = portal.users.get(userName)\n",
    "        user_content = user.items(max_items=5000) #important to define max_items, default is 100\n",
    "\n",
    "        # Get maps from root folder first\n",
    "        for item in user_content:\n",
    "            if (item.type == 'Web Map' or item.type == 'Web Scene'):\n",
    "                found2=loopKeywords(item)\n",
    "                if found2==1:\n",
    "                    writeFoundItemToCSV(item,userName)    \n",
    "\n",
    "        # Get maps from each of the folders next\n",
    "        folders = user.folders\n",
    "        for folder in folders:\n",
    "            folder_items = user.items(folder=folder['title'],max_items=5000)\n",
    "            for item in folder_items:\n",
    "                if (item.type == 'Web Map' or item.type == 'Web Scene'):\n",
    "                    found2=loopKeywords(item)\n",
    "                    if found2==1:\n",
    "                        writeFoundItemToCSV(item,userName)\n",
    "get_web_maps()\n",
    "csv1.close()\n",
    "print(Fore.GREEN+\"END\"+Style.RESET_ALL)"
   ]
  },
  {
   "cell_type": "markdown",
   "id": "e84349d1",
   "metadata": {
    "heading_collapsed": true
   },
   "source": [
    "# 2) List Geoplatform Services\n",
    "DESCRIPTION: Loops through content (including subfolders) of specified Geoplatform usernames to generate a list of Geoplatform MAP SERVICES, IMAGE SERVICES, FEATURE SERVICES, based on specified tags and usernames."
   ]
  },
  {
   "cell_type": "code",
   "execution_count": null,
   "id": "50d0d83e",
   "metadata": {
    "hidden": true
   },
   "outputs": [],
   "source": [
    "#Cell 1 of 2:  Create (or overwrite) csv file in the output directory, and write the headers:\n",
    "dateForFilename=date.today()\n",
    "csv2 = open(outputFolder+\"3_\"+projectName+\"_ServicesList_\"+str(dateForFilename)+\".csv\", \"w\")\n",
    "csv2.write(\"Service, Service Owner, Service Type, Item ID, Sharing\" + '\\n')\n",
    "print(Fore.BLUE+\"Output WebMapList CSV: \"+Style.RESET_ALL+outputFolder+\"3_\"+projectName+\"_ServicesList_\"+str(dateForFilename)+\".csv\")"
   ]
  },
  {
   "cell_type": "code",
   "execution_count": null,
   "id": "5f0aa27a",
   "metadata": {
    "hidden": true
   },
   "outputs": [],
   "source": [
    "#Cell 2 of 2:  List Services main functions:\n",
    "\n",
    "def loopKeywords(item): # Search Geoplatform item titles and tags for key words.\n",
    "    found=''\n",
    "    for tagKeyword in tagKeywordList:\n",
    "        if tagKeyword in item.title or tagKeyword in item.tags:\n",
    "            found=1\n",
    "            break  \n",
    "    return found\n",
    "\n",
    "def writeFoundItemToCSV(item,userName): # If web map found, write details to specified CSV\n",
    "    print (Fore.RED+\"  Found: \"+Style.RESET_ALL,item.title,Fore.RED+\"| Tags:\"+Style.RESET_ALL,item.tags)\n",
    "    try:\n",
    "        # if found item print details\n",
    "        joinInput=(item.title,str(userName),item.type,item.id,(str(item.shared_with).replace(',',\" & \")))\n",
    "        #print(\", \".join(joinInput) + '\\n'),\n",
    "        csv2.write(\", \".join(joinInput) + '\\n')\n",
    "    except Exception as e:\n",
    "        print (e)\n",
    "\n",
    "def get_GP_services(): # Search Geoplatform users' root folder and subfolders\n",
    "    for userName in userNames:\n",
    "        print(\"Searching content for user:\",Back.GREEN+userName+Style.RESET_ALL,\"...\")\n",
    "        user = portal.users.get(userName)\n",
    "        user_content = user.items(max_items=5000) #important to define max_items, default is 100\n",
    "\n",
    "        # Get maps from root folder first\n",
    "        for item in user_content:\n",
    "            if (item.type == \"Map Service\" or item.type==\"Image Service\" or item.type==\"Feature Service\" \\\n",
    "                and (\"services.arcgis.com\" not in item.url or \"oem\" not in item.url)):\n",
    "                found2=loopKeywords(item)\n",
    "                if found2==1:\n",
    "                    writeFoundItemToCSV(item,userName)    \n",
    "\n",
    "        # Get maps from each of the folders next\n",
    "        folders = user.folders\n",
    "        for folder in folders:\n",
    "            folder_items = user.items(folder=folder['title'],max_items=5000)\n",
    "            for item in folder_items:\n",
    "                if (item.type == \"Map Service\" or item.type==\"Image Service\" or item.type==\"Feature Service\"):\n",
    "                    found2=loopKeywords(item)\n",
    "                    if found2==1:\n",
    "                        writeFoundItemToCSV(item,userName)\n",
    "\n",
    "get_GP_services()\n",
    "csv2.close()\n",
    "print(Fore.GREEN+\"END\"+Style.RESET_ALL)"
   ]
  },
  {
   "cell_type": "markdown",
   "id": "2ad2133c",
   "metadata": {
    "heading_collapsed": true
   },
   "source": [
    "# 3) List Geoplatform Hosted Services\n",
    "DESCRIPTION: Generates a list of **HOSTED** layers on the Geoplatform (MAP SERVICES, IMAGE SERVICES, FEATURE SERVICES) based on specified tags and usernames."
   ]
  },
  {
   "cell_type": "code",
   "execution_count": null,
   "id": "7357b360",
   "metadata": {
    "hidden": true
   },
   "outputs": [],
   "source": [
    "#Cell 1 of 2:  Create (or overwrite) csv file in the output directory, and write the headers:\n",
    "dateForFilename=date.today()\n",
    "csv3 = open(outputFolder+\"4_\"+projectName+\"_HostedServicesList_\"+str(dateForFilename)+\".csv\", \"w\")\n",
    "csv3.write(\"Hosted Service, Hosted Service Owner, Hosted Service Type, Item ID, Sharing\" + '\\n')\n",
    "print(Fore.BLUE+\"Output WebMapList CSV: \"+Style.RESET_ALL+outputFolder+\"4_\"+projectName+\"_HostedServicesList_\"+str(dateForFilename)+\".csv\")"
   ]
  },
  {
   "cell_type": "code",
   "execution_count": null,
   "id": "1d2ff832",
   "metadata": {
    "hidden": true
   },
   "outputs": [],
   "source": [
    "#Cell 2 of 2:  List Services main functions:\n",
    "\n",
    "def loopKeywords(item): # Search Geoplatform item titles and tags for key words.\n",
    "    found=''\n",
    "    for tagKeyword in tagKeywordList:\n",
    "        if tagKeyword in item.title or tagKeyword in item.tags:\n",
    "            found=1\n",
    "            break  \n",
    "    return found\n",
    "\n",
    "def writeFoundItemToCSV(item,userName): # If web map found, write details to specified CSV\n",
    "    print (Fore.RED+\"  Found: \"+Style.RESET_ALL,item.title,Fore.RED+\"| Tags:\"+Style.RESET_ALL,item.tags)\n",
    "    try:\n",
    "        # if found item print details\n",
    "        joinInput=(item.title,str(userName),item.type,item.id,(str(item.shared_with).replace(',',\" & \")))\n",
    "        #print(\", \".join(joinInput) + '\\n'),\n",
    "        csv3.write(\", \".join(joinInput) + '\\n')\n",
    "    except Exception as e:\n",
    "        print (e)\n",
    "\n",
    "def get_GP_hosted_services(): # Search Geoplatform users' root folder and subfolders\n",
    "    for userName in userNames:\n",
    "        print(\"Searching content for user:\",Back.GREEN+userName+Style.RESET_ALL,\"...\")\n",
    "        user = portal.users.get(userName)\n",
    "        user_content = user.items(max_items=5000) #important to define max_items, default is 100\n",
    "\n",
    "        # Get maps from root folder first\n",
    "        for item in user_content:\n",
    "            if (item.type==\"Map Service\" or item.type==\"Image Service\" or item.type==\"Feature Service\") \\\n",
    "                and (\"services.arcgis.com\" in item.url or \"oem\" in item.url):\n",
    "                found2=loopKeywords(item)\n",
    "                if found2==1:\n",
    "                    writeFoundItemToCSV(item,userName)    \n",
    "\n",
    "        # Get maps from each of the folders next\n",
    "        folders = user.folders\n",
    "        for folder in folders:\n",
    "            folder_items = user.items(folder=folder['title'],max_items=5000)\n",
    "            for item in folder_items:\n",
    "                if (item.type==\"Map Service\" or item.type==\"Image Service\" or item.type==\"Feature Service\") \\\n",
    "                    and (\"services.arcgis.com\" in item.url or \"oem\" in item.url):\n",
    "                    found2=loopKeywords(item)\n",
    "                    if found2==1:\n",
    "                        writeFoundItemToCSV(item,userName)\n",
    "\n",
    "get_GP_hosted_services()\n",
    "csv3.close()\n",
    "print(Fore.GREEN+\"END\"+Style.RESET_ALL)"
   ]
  },
  {
   "cell_type": "markdown",
   "id": "d02c7aa1",
   "metadata": {
    "heading_collapsed": true
   },
   "source": [
    "# 4) List Geoplatform Apps\n",
    "DESCRIPTION: Generates a list of Geoplatform DASHBOARDS, STORY MAPS, WEB MAPPING APPLICATIONS, HUB INITIATIVES, HUB SITE APPLICATIONS, WEB EXPERIENCES, based on specified tags and usernames."
   ]
  },
  {
   "cell_type": "code",
   "execution_count": null,
   "id": "31efaa7f",
   "metadata": {
    "hidden": true
   },
   "outputs": [],
   "source": [
    "#Cell 1 of 2:  create (or overwrite) csv file in the output directory, and write the headers:\n",
    "dateForFilename=date.today()\n",
    "csv4 = open(outputFolder+\"5_\"+projectName+\"_AppList_\"+str(dateForFilename)+\".csv\", \"w\")\n",
    "csv4.write(\"App, App Owner, App Type, Item ID, Sharing\" + '\\n')\n",
    "print(Fore.BLUE+\"Output WebMapList CSV: \"+Style.RESET_ALL+outputFolder+\"5_\"+projectName+\"_AppList_\"+str(dateForFilename)+\".csv\")"
   ]
  },
  {
   "cell_type": "code",
   "execution_count": null,
   "id": "ed373f25",
   "metadata": {
    "hidden": true
   },
   "outputs": [],
   "source": [
    "#Cell 2 of 2:  List Applications main functions:\n",
    "\n",
    "def loopKeywords(item): # Search Geoplatform item titles and tags for key words.\n",
    "    found=''\n",
    "    for tagKeyword in tagKeywordList:\n",
    "        if tagKeyword in item.title or tagKeyword in item.tags:\n",
    "            found=1\n",
    "            break  \n",
    "    return found\n",
    "\n",
    "def writeFoundItemToCSV(item,userName): # If web map found, write details to specified CSV\n",
    "    print (Fore.RED+\"  Found: \"+Style.RESET_ALL,item.title,Fore.RED+\"| Tags:\"+Style.RESET_ALL,item.tags)\n",
    "    try:\n",
    "        # if found item print details\n",
    "        joinInput=(item.title,str(userName),item.type,item.id,(str(item.shared_with).replace(',',\" & \")))\n",
    "        #print(\", \".join(joinInput) + '\\n'),\n",
    "        csv4.write(\", \".join(joinInput) + '\\n')\n",
    "    except Exception as e:\n",
    "        print (e)\n",
    "\n",
    "def get_GP_apps(): # Search Geoplatform users' root folder and subfolders\n",
    "    for userName in userNames:\n",
    "        print(\"Searching content for user:\",Back.GREEN+userName+Style.RESET_ALL,\"...\")\n",
    "        user = portal.users.get(userName)\n",
    "        user_content = user.items(max_items=5000) #important to define max_items, default is 100\n",
    "\n",
    "        # Get maps from root folder first\n",
    "        for item in user_content:\n",
    "            if (item.type==\"Dashboard\" or item.type==\"StoryMap\" or item.type==\"Web Mapping Application\" \\\n",
    "                or item.type==\"Hub Initiative\" or item.type==\"Hub Site Application\" or item.type==\"Web Experience\" \\\n",
    "                or item.type=='QuickCapture Project'):\n",
    "                    found2=loopKeywords(item)\n",
    "                    if found2==1:\n",
    "                        writeFoundItemToCSV(item,userName)    \n",
    "\n",
    "        # Get maps from each of the folders next\n",
    "        folders = user.folders\n",
    "        for folder in folders:\n",
    "            folder_items = user.items(folder=folder['title'],max_items=5000)\n",
    "            for item in folder_items:\n",
    "                if (item.type==\"Dashboard\" or item.type==\"StoryMap\" or item.type==\"Web Mapping Application\" \\\n",
    "                   or item.type==\"Hub Initiative\" or item.type==\"Hub Site Application\" or item.type==\"Web Experience\" \\\n",
    "                   or item.type=='QuickCapture Project'):\n",
    "                        found2=loopKeywords(item)\n",
    "                        if found2==1:\n",
    "                            writeFoundItemToCSV(item,userName)\n",
    "get_GP_apps()\n",
    "csv4.close()\n",
    "print(Fore.GREEN+\"END\"+Style.RESET_ALL)"
   ]
  },
  {
   "cell_type": "markdown",
   "id": "016014ed",
   "metadata": {
    "heading_collapsed": true
   },
   "source": [
    "# 5) List Geoplatform Hosted Data, Forms, Files, Images, Geoprocessing\n",
    "DESCRIPTION: Generates a list of Geoplatform FILE GEODATABASES, SHAPEFILES, FORMS, NOTEBOOKS, SERVICE DEFINITIONS, GEOMETRY LAYERS, INSIGHTS ITEMS, MS OFFICE FILES, GEOPROCESSING ITEMS based on specified tags and usernames."
   ]
  },
  {
   "cell_type": "code",
   "execution_count": null,
   "id": "792f8232",
   "metadata": {
    "hidden": true
   },
   "outputs": [],
   "source": [
    "#Cell 1 of 2:  Create (or overwrite) csv file in the output directory, and write the headers:\n",
    "dateForFilename=date.today()\n",
    "csv5 = open(outputFolder+\"6_\"+projectName+\"_UtilityList_\"+str(dateForFilename)+\".csv\", \"w\")\n",
    "csv5.write(\"Utility, Utility Owner, Utility Type, Item ID, Sharing\" + '\\n')\n",
    "print(Fore.BLUE+\"Output WebMapList CSV: \"+Style.RESET_ALL+outputFolder+\"6_\"+projectName+\"_UtilityList_\"+str(dateForFilename)+\".csv\")"
   ]
  },
  {
   "cell_type": "code",
   "execution_count": null,
   "id": "2d693b0e",
   "metadata": {
    "hidden": true
   },
   "outputs": [],
   "source": [
    "#Cell 2 of 2: List Hosted Data, Files, Forms main functions:\n",
    "\n",
    "otherItemTypes = ['Microsoft Word','Microsoft Excel','Microsoft Powerpoint','Document Link','PDF','CSV','Image', \\\n",
    "                 'Insights Workbook','Insights Page','Geocoding Layer','Geometry Layer','Geoprocessing Toobox', \\\n",
    "                 'Geoprocessing Sample','Geoprocessing Package','Network Analysis','Web Scene','Shapefile', \\\n",
    "                 'File Geodatabase','Service Definition','Form','Notebook']\n",
    "\n",
    "def loopKeywords(item): # Search Geoplatform item titles and tags for key words.\n",
    "    found=''\n",
    "    for tagKeyword in tagKeywordList:\n",
    "        if tagKeyword in item.title or tagKeyword in item.tags:\n",
    "            found=1\n",
    "            break  \n",
    "    return found\n",
    "\n",
    "def writeFoundItemToCSV(item,userName): # If web map found, write details to specified CSV\n",
    "    print (Fore.RED+\"  Found: \"+Style.RESET_ALL,item.title,Fore.RED+\"| Tags:\"+Style.RESET_ALL,item.tags)\n",
    "    try:\n",
    "        # if found item print details\n",
    "        joinInput=(item.title,str(userName),item.type,item.id,(str(item.shared_with).replace(',',\" & \")))\n",
    "        #print(\", \".join(joinInput) + '\\n'),\n",
    "        csv5.write(\", \".join(joinInput) + '\\n')\n",
    "    except Exception as e:\n",
    "        print (e)\n",
    "\n",
    "def get_GP_Utilities(): # Search Geoplatform users' root folder and subfolders\n",
    "    for userName in userNames:\n",
    "        print(\"Searching content for user:\",Back.GREEN+userName+Style.RESET_ALL,\"...\")\n",
    "        user = portal.users.get(userName)\n",
    "        user_content = user.items(max_items=5000) #important to define max_items, default is 100\n",
    "\n",
    "        # Get maps from root folder first\n",
    "        for item in user_content:\n",
    "            for otherItemType in otherItemTypes:\n",
    "                if item.type == otherItemType:\n",
    "                    found2=loopKeywords(item)\n",
    "                    if found2==1:\n",
    "                        writeFoundItemToCSV(item,userName)    \n",
    "\n",
    "        # Get maps from each of the folders next\n",
    "        folders = user.folders\n",
    "        for folder in folders:\n",
    "            folder_items = user.items(folder=folder['title'],max_items=5000)\n",
    "            for item in folder_items:\n",
    "                for otherItemType in otherItemTypes:\n",
    "                    if item.type == otherItemType:\n",
    "                        found2=loopKeywords(item)\n",
    "                        if found2==1:\n",
    "                            writeFoundItemToCSV(item,userName)\n",
    "get_GP_Utilities()\n",
    "csv5.close()\n",
    "print(Fore.GREEN+\"END\"+Style.RESET_ALL)"
   ]
  }
 ],
 "metadata": {
  "kernelspec": {
   "display_name": "Python 3 (ipykernel)",
   "language": "python",
   "name": "python3"
  },
  "language_info": {
   "codemirror_mode": {
    "name": "ipython",
    "version": 3
   },
   "file_extension": ".py",
   "mimetype": "text/x-python",
   "name": "python",
   "nbconvert_exporter": "python",
   "pygments_lexer": "ipython3",
   "version": "3.11.8"
  }
 },
 "nbformat": 4,
 "nbformat_minor": 5
}
