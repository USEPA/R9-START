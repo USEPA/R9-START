{
 "cells": [
  {
   "cell_type": "markdown",
   "metadata": {},
   "source": [
    "#  <font color='red'>Geoplatform - Move Items To New User - Prep for Deletion</font>\n",
    "<b><u>Contents:</b></u><br>\n",
    "1) Remove item sharing (necessary to move items in shared update groups).<br>\n",
    "2) Move items to a new Geoplatform User and folder using an input list of Item ID's.<br>\n",
    "3) Remove item deletion protection.<br>\n",
    "\n",
    "<font color='blue' size='2'>Note:  Always run cells with blue headers before running any other processes."
   ]
  },
  {
   "cell_type": "markdown",
   "metadata": {
    "heading_collapsed": true
   },
   "source": [
    "#  <font color=blue>Import modules</font>"
   ]
  },
  {
   "cell_type": "code",
   "execution_count": null,
   "metadata": {
    "hidden": true
   },
   "outputs": [],
   "source": [
    "import os, sys\n",
    "import arcgis\n",
    "from arcgis.gis import GIS\n",
    "import csv\n",
    "from datetime import datetime\n",
    "from colorama import Fore, Back, Style\n",
    "print(Fore.BLUE+\"Modules Imported \"+Style.RESET_ALL+str(datetime.now().strftime(\"%m/%d/%Y %H:%M \"))+(time.localtime().tm_zone))"
   ]
  },
  {
   "cell_type": "markdown",
   "metadata": {
    "heading_collapsed": true
   },
   "source": [
    "# <font color=blue>Project variables</font>"
   ]
  },
  {
   "cell_type": "code",
   "execution_count": null,
   "metadata": {
    "hidden": true
   },
   "outputs": [],
   "source": [
    "### INPUT SECTION ###\n",
    "\n",
    "# Input 1) Destination Geoplatform username:\n",
    "usnm = 'User.Name_EPAEXT'\n",
    "# You will be prompted to input the password for this username in the CONSOLE when the script is run.\n",
    "\n",
    "#Input 2) Specify a new or existing target folder IN GEOPLATFORM for moved items, for user in input 1.\n",
    "move_folder = 'Geoplatform Folder Name'\n",
    "\n",
    "# Input 3) Specify an input/output directory for input item ID csv, and error log csv:\n",
    "io_folder = str('C:\\\\PythonTemp\\\\ItemID_DeleteList') #format example: str('C:\\\\PythonTemp\\\\')\n",
    "\n",
    "# Input 4) Specify the name of your csv file that has a list of Item IDs to move:\n",
    "input_csv = 'Deletions.csv' #format example: 'YourFilename.csv')\n",
    "\n",
    "# Input 5) Constrain item moves to specific START usernames as a failsafe against accidentally taking unintended EPA content if a wrong item ID mistakenly used\n",
    "user_list =  ['User.Name1_EPAEXT','User.Name2_EPAEXT','User.Name3_EPAEXT','User.Name4_EPA', \\\n",
    "              'User.Name5_EPAEXT','User.Name5_EPAEXT','User.Name6_EPAEXT']\n",
    "\n",
    "### INPUT SECTION END ###\n",
    "print(Fore.BLUE+\"Target folder: \"+Style.RESET_ALL+usnm, move_folder)\n",
    "print(Fore.BLUE+\"Input-Output folder: \"+Style.RESET_ALL+io_folder)\n",
    "print(Fore.BLUE+\"Deletions csv: \"+Style.RESET_ALL+input_csv)"
   ]
  },
  {
   "cell_type": "markdown",
   "metadata": {
    "heading_collapsed": true
   },
   "source": [
    "# <font color=blue>Connect to Portal</font>\n",
    "- <font color=red>Important:</font>  Connection method in this script requires you to have ArcGIS Pro logged into the correct ArcGIS Online Organization target (U.S. EPA Geoplatform)."
   ]
  },
  {
   "cell_type": "code",
   "execution_count": null,
   "metadata": {
    "hidden": true
   },
   "outputs": [],
   "source": [
    "### ArcGIS portal url and login ###\n",
    "portal = GIS('pro')\n",
    "token = portal._con.token\n",
    "print(Fore.BLUE+\"Logged in as: \"+Style.RESET_ALL+str(portal.properties.user.username))"
   ]
  },
  {
   "cell_type": "markdown",
   "metadata": {
    "heading_collapsed": true
   },
   "source": [
    "# 1) Remove all group sharing from items\n",
    "- Use a csv list of Item ID's to remove all sharing from Geoplatform items.\n",
    "- <b>Not required</b> to run before section 2) Move items, but removing sharing first will enable you to move all items in your input list and not get an output list of exceptions that could not be moved.\n",
    "- Some groups prevent items from being moved, and sharing must be removed before the item can be moved by script or manually."
   ]
  },
  {
   "cell_type": "code",
   "execution_count": null,
   "metadata": {
    "hidden": true,
    "scrolled": true
   },
   "outputs": [],
   "source": [
    "#Open the input item ID list csv:\n",
    "csvItemIDFile = open(io_folder+\"\\\\\"+input_csv, \"r\")\n",
    "csvRead = csv.reader(csvItemIDFile)\n",
    "itemIDList = []\n",
    "for csvRow in csvRead:\n",
    "    for listID in csvRow:\n",
    "        itemIDList.append(listID)\n",
    "print(Fore.BLUE+\"Input csv list of Item IDs to unshare: \"+Style.RESET_ALL+str(itemIDList))\n",
    "print(Fore.BLUE+\"Count of Item ID's to unshare: \"+Style.RESET_ALL+str(len(itemIDList)))"
   ]
  },
  {
   "cell_type": "code",
   "execution_count": null,
   "metadata": {
    "hidden": true
   },
   "outputs": [],
   "source": [
    "for sharing_itemID in itemIDList:\n",
    "        unshare_item = portal.content.get(sharing_itemID)\n",
    "        try:\n",
    "            print (unshare_item.title+\" | \"+Fore.BLUE+unshare_item.id+Style.RESET_ALL+\" | \"+unshare_item.owner)\n",
    "            if unshare_item.owner in user_list:\n",
    "                try:\n",
    "                    unshare_item.share(everyone = False, org = False, groups=\"\", allow_members_to_edit = False)\n",
    "                    print (Fore.GREEN+\"   ...successfully unshared\"+Style.RESET_ALL)\n",
    "                except:\n",
    "                    print(Fore.RED+\"   ...failed to unshare item\"+Style.RESET_ALL)\n",
    "                    #print(Fore.RED+\"      \"+str(except Exception as e)+Style.RESET_ALL)\n",
    "            else:\n",
    "                print(Fore.RED+\"   ...did not unshare: item username did not match input list of users\"+Style.RESET_ALL)\n",
    "        except:\n",
    "            print(Fore.RED+str(sharing_itemID)+\"   ...item not found\"+Style.RESET_ALL)\n",
    "csvItemIDFile.close\n",
    "print(Fore.GREEN+\"END\"+Style.RESET_ALL)"
   ]
  },
  {
   "cell_type": "markdown",
   "metadata": {
    "heading_collapsed": true
   },
   "source": [
    "# 2) Move items to a new Geoplatform User\n",
    "- Use a csv list of Item ID's to move Geoplatform items to a different User and folder.  Usually used as first step before deleting a large batch of items during decommissioning.  Safer to first move items and remove sharing to ensure that republished/repointed items stay active as intended.  Also better to avoid using a deletion script and instead just delete the entire folder when ready to delete all items.\n",
    "- <font color=RED>FUTURE DEVELOPMENT:  </font>Create an export csv list of each item ownership and sharing before each item is moved to document as a precaution."
   ]
  },
  {
   "cell_type": "code",
   "execution_count": null,
   "metadata": {
    "hidden": true
   },
   "outputs": [],
   "source": [
    "#Open the input item ID list csv:\n",
    "csvItemIDFile = open(io_folder+\"\\\\\"+input_csv, \"r\")\n",
    "csvRead = csv.reader(csvItemIDFile)\n",
    "itemIDList = []\n",
    "for csvRow in csvRead:\n",
    "    for listID in csvRow:\n",
    "        itemIDList.append(listID)\n",
    "print(Fore.BLUE+\"Input csv list of Item IDs to move: \"+Style.RESET_ALL+str(itemIDList))\n",
    "print(Fore.BLUE+\"Count of Item ID's to move: \"+Style.RESET_ALL+str(len(itemIDList)))\n",
    "\n",
    "#Create error log output csv:\n",
    "r = open(io_folder+\"\\\\ItemMove_Exceptions.csv\", \"w\")\n",
    "r.write(\"Item ID, Item Name, Item Owner\" + '\\n')\n",
    "print(Fore.BLUE+\"Error log: \"+Style.RESET_ALL+io_folder+\"\\\\ItemMove_Exceptions.csv\")"
   ]
  },
  {
   "cell_type": "code",
   "execution_count": null,
   "metadata": {
    "hidden": true
   },
   "outputs": [],
   "source": [
    "#Function to loop through item IDs and move, print csv list of exceptions:\n",
    "def moveItem():\n",
    "    \n",
    "    #loop through Geoplatform item IDs provided in input, move to Geoplatform folder in User content.\n",
    "    for move_itemID in itemIDList:\n",
    "        move_item = portal.content.get(move_itemID)\n",
    "        try:\n",
    "            print (move_item.title+Fore.RED+\" | \"+Fore.BLUE+move_item.id+Style.RESET_ALL+\" | \"+move_item.owner)\n",
    "            if move_item.owner in user_list:\n",
    "                joinInput=(move_item.id,move_item.title,move_item.owner)\n",
    "                try:\n",
    "                    move_item.reassign_to(str(usnm), target_folder=str(move_folder))\n",
    "                    print (Fore.CYAN+\"   ...successfully moved\"+Style.RESET_ALL)\n",
    "                except:\n",
    "                    print(Back.RED+\"   ...failed to move item - check if shared to a restricted group\"+Style.RESET_ALL)\n",
    "                    r.write(\", \".join(joinInput)+\", failed to move likely due to sharing\" + '\\n')\n",
    "            else:\n",
    "                print(Back.RED+\"   \"+move_item.id+\" | Username not in list - check if item ID and user are correct\"+Style.RESET_ALL)\n",
    "                r.write(\", \".join(joinInput)+\", item owner was not in username constraint list\" + '\\n')      \n",
    "        except:\n",
    "            print(Back.RED+str(move_itemID)+\"   ...item not found\"+Style.RESET_ALL)\n",
    "            r.write(\", \".join(joinInput)+\", item not found\" + '\\n') \n",
    "moveItem()\n",
    "csvItemIDFile.close\n",
    "r.close\n",
    "print(Fore.GREEN+\"END\"+Style.RESET_ALL)"
   ]
  },
  {
   "cell_type": "markdown",
   "metadata": {
    "heading_collapsed": true
   },
   "source": [
    "# 3) Remove deletion protection\n",
    "- Use a csv list of Item ID's to remove deletion protection setting from Geoplatform items"
   ]
  },
  {
   "cell_type": "code",
   "execution_count": null,
   "metadata": {
    "hidden": true
   },
   "outputs": [],
   "source": [
    "#Open the input item ID list csv:\n",
    "csvItemIDFile = open(io_folder+\"\\\\\"+input_csv, \"r\")\n",
    "csvRead = csv.reader(csvItemIDFile)\n",
    "itemIDList = []\n",
    "for csvRow in csvRead:\n",
    "    for listID in csvRow:\n",
    "        itemIDList.append(listID)\n",
    "print(Fore.BLUE+\"Input csv list of Item IDs to remove deletion protection: \"+Style.RESET_ALL+str(itemIDList))\n",
    "print(Fore.BLUE+\"Count of Item ID's to remove deletion protection: \"+Style.RESET_ALL+str(len(itemIDList)))"
   ]
  },
  {
   "cell_type": "code",
   "execution_count": null,
   "metadata": {
    "hidden": true
   },
   "outputs": [],
   "source": [
    "#remove item deletion protection\n",
    "for delpro_itemID in itemIDList:\n",
    "    item_ModDelPro = portal.content.get(str(delpro_itemID))\n",
    "    try:\n",
    "        print (item_ModDelPro.title+Fore.RED+\" | \"+Fore.BLUE+item_ModDelPro.id+Style.RESET_ALL+\" | \"+item_ModDelPro.owner)\n",
    "        if item_ModDelPro.owner in user_list:\n",
    "            item_ModDelPro.protect(enable = False)\n",
    "            print (Fore.GREEN+\"   ...deletion protection removed\"+Style.RESET_ALL)\n",
    "        else:\n",
    "            print (Back.RED+\"   ...DID NOT alter deletion protection - item username did not match input section\"+Style.RESET_ALL)\n",
    "    except:\n",
    "        print(Back.RED+str(delpro_itemID)+\"   ...item not found\"+Style.RESET_ALL)\n",
    "csvItemIDFile.close\n",
    "print(Fore.GREEN+\"END\"+Style.RESET_ALL)"
   ]
  },
  {
   "cell_type": "code",
   "execution_count": null,
   "metadata": {
    "hidden": true
   },
   "outputs": [],
   "source": []
  }
 ],
 "metadata": {
  "kernelspec": {
   "display_name": "Python 3 (ipykernel)",
   "language": "python",
   "name": "python3"
  },
  "language_info": {
   "codemirror_mode": {
    "name": "ipython",
    "version": 3
   },
   "file_extension": ".py",
   "mimetype": "text/x-python",
   "name": "python",
   "nbconvert_exporter": "python",
   "pygments_lexer": "ipython3",
   "version": "3.11.8"
  }
 },
 "nbformat": 4,
 "nbformat_minor": 2
}
