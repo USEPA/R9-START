{
 "cells": [
  {
   "cell_type": "markdown",
   "metadata": {},
   "source": [
    "# <font color='red'>Geoplatform - Query Group Members and e-mails</font>\n",
    "<b><u>Contents:</b></u><br>\n",
    "1) Print list of members and e-mails in a Geoplatform Group\n",
    "\n",
    "<font color='blue' size='2'>Note:  Always run cells with blue headers before running any other processes."
   ]
  },
  {
   "cell_type": "markdown",
   "metadata": {
    "heading_collapsed": true
   },
   "source": [
    "# <font color=blue>Import modules</font>"
   ]
  },
  {
   "cell_type": "code",
   "execution_count": null,
   "metadata": {
    "hidden": true
   },
   "outputs": [],
   "source": [
    "import arcgis\n",
    "import os, sys\n",
    "from arcgis.gis import GIS\n",
    "from colorama import Fore, Back, Style\n",
    "print(Fore.BLUE+\"Modules Imported \"+Style.RESET_ALL+str(datetime.now().strftime(\"%m/%d/%Y %H:%M \"))+(time.localtime().tm_zone))"
   ]
  },
  {
   "cell_type": "markdown",
   "metadata": {
    "heading_collapsed": true
   },
   "source": [
    "# <font color=blue>Project variables</font>"
   ]
  },
  {
   "cell_type": "code",
   "execution_count": null,
   "metadata": {
    "hidden": true
   },
   "outputs": [],
   "source": [
    "### INPUT SECTION ###\n",
    "\n",
    "# Specify a Geoplatform Group name to query:\n",
    "groupName = 'R9 Red Hill Drinking Water'\n",
    "                        \n",
    "### INPUT SECTION END ###"
   ]
  },
  {
   "cell_type": "markdown",
   "metadata": {
    "heading_collapsed": true
   },
   "source": [
    "# <font color=BLUE>Connect to Portal</font>\n",
    "- <font color=red>Important:</font>  Connection method in this script requires you to have ArcGIS Pro logged into the correct ArcGIS Online Organization target (U.S. EPA Geoplatform)."
   ]
  },
  {
   "cell_type": "code",
   "execution_count": null,
   "metadata": {
    "hidden": true
   },
   "outputs": [],
   "source": [
    "### ArcGIS portal url and login ###\n",
    "portal = GIS('pro')\n",
    "token = portal._con.token\n",
    "print(Fore.BLUE+\"Logged in as: \"+Style.RESET_ALL+str(portal.properties.user.username))"
   ]
  },
  {
   "cell_type": "markdown",
   "metadata": {
    "heading_collapsed": true
   },
   "source": [
    "# 1) Query group members"
   ]
  },
  {
   "cell_type": "code",
   "execution_count": null,
   "metadata": {
    "hidden": true
   },
   "outputs": [],
   "source": [
    "def list_GroupMemberEmails():\n",
    "    memberList = groupName.get_members()\n",
    "    for groupMember in memberList:\n",
    "        printDetails = portal.user.groupMember\n",
    "        printDetails\n",
    "        \n",
    "list_GroupMemberEmails()\n",
    "             \n",
    "print(Fore.GREEN+\"END\"+Style.RESET_ALL)"
   ]
  }
 ],
 "metadata": {
  "kernelspec": {
   "display_name": "Python 3 (ipykernel)",
   "language": "python",
   "name": "python3"
  },
  "language_info": {
   "codemirror_mode": {
    "name": "ipython",
    "version": 3
   },
   "file_extension": ".py",
   "mimetype": "text/x-python",
   "name": "python",
   "nbconvert_exporter": "python",
   "pygments_lexer": "ipython3",
   "version": "3.11.8"
  }
 },
 "nbformat": 4,
 "nbformat_minor": 2
}
