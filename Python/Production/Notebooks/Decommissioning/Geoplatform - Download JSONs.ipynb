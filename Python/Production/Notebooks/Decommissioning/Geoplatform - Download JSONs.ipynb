{
 "cells": [
  {
   "cell_type": "markdown",
   "metadata": {},
   "source": [
    "#  <font color='red'>Geoplatform - Download JSONs - All Apps</font>\n",
    "<b><u>Contents:</b></u><br>\n",
    "1) Download JSONs for specified apps and items on a specified project<br>\n",
    "\n",
    "<font color='blue' size='2'>Note:  Always run cells with blue headers before running any other processes."
   ]
  },
  {
   "cell_type": "markdown",
   "metadata": {
    "heading_collapsed": true
   },
   "source": [
    "#  <font color=blue>Import modules</font>"
   ]
  },
  {
   "cell_type": "code",
   "execution_count": null,
   "metadata": {
    "hidden": true
   },
   "outputs": [],
   "source": [
    "import os, sys, shutil\n",
    "from shutil import make_archive\n",
    "import arcgis\n",
    "from arcgis.gis import GIS\n",
    "import json\n",
    "from json import loads\n",
    "import csv\n",
    "from colorama import Fore, Back, Style\n",
    "from datetime import datetime\n",
    "print(Fore.BLUE+\"Modules Imported \"+Style.RESET_ALL+str(datetime.now().strftime(\"%m/%d/%Y %H:%M \"))+(time.localtime().tm_zone))"
   ]
  },
  {
   "cell_type": "markdown",
   "metadata": {
    "heading_collapsed": true
   },
   "source": [
    "# <font color=blue>Project variables</font>"
   ]
  },
  {
   "cell_type": "code",
   "execution_count": null,
   "metadata": {
    "hidden": true
   },
   "outputs": [],
   "source": [
    "### INPUT CELL ###\n",
    "\n",
    "# methodToGetItems = \"ITEM_ID\" or \"KEYWORDS_AND_USERS\" sets which method will be used to find items and download JSONs\n",
    "#     ITEM_ID requires an input list of item ID's in a csv file, one Item ID per row with no header.\n",
    "#     KEYWORDS_AND_USERS will loop through specified users' content folders and search for keywords in tags and item titles.\n",
    "methodToGetItems = 'KEYWORDS_AND_USERS'\n",
    "\n",
    "# if using ITEM_ID above, enter filepath and filename of csv list of item ID's.\n",
    "inputCSVitemIDs = \"E:\\\\Folder\\\\Subfolder\\\\Subfolder\\\\Subfolder\\\\csv_ItemList.csv\"\n",
    "\n",
    "#Provide keywords to search Geoplatform item titles and tags (for writeJSON function)\n",
    "            #NOTE: item title can be searched with partial matches\n",
    "tagKeywordList = ['Tag keywords 1','Tag keywords 2','Tag keywords 3']\n",
    "\n",
    "# Provide list(s) of Geoplatform user names relevant to the project (for searching user content):\n",
    "usersR9 = ['User1_EPAEXT','User2_EPAEXT','User3_EPAEXT','User4_EPAEXT', \\\n",
    "           'User5_EPAEXT',]\n",
    "\n",
    "usersSTART = ['User6_EPAEXT','User7_EPAEXT','User8_EPAEXT', \\\n",
    "              'User9_EPAEXT','User10_EPAEXT','User11_EPAEXT','User12_EPAEXT', \\\n",
    "              'User13_EPAEXT','User14_EPAEXT']\n",
    "\n",
    "usersR9EPA = ['User1_EPA','User2_EPA']\n",
    "            \n",
    "usersR9TC = ['User15_EPAEXT','User16_EPAEXT','User17_EPAEXT','User18_EPAEXT', \\\n",
    "             'User19_EPAEXT','User20_EPAEXT']\n",
    "\n",
    "usersOther = ['User21_EPAEXT']\n",
    "\n",
    "# Choose userNames to assebmle from lists above: 1 = R9 START GIS, 2 = All START GIS, 3 = R9 EPA, 4 = R9 Tech Center, 5 = Other\n",
    "usersOptions = (1,2,3,4,5) # enter only the numbers that apply from list above.\n",
    "            \n",
    "#Specify item types to download JSON #'Map Service',\n",
    "itemTypes=['Feature Service','Service Definition','Dashboard','StoryMap', \\\n",
    "           'Web Mapping Application','Web Map','Form','Notebook', 'File Geodatabase', \\\n",
    "           'Hub Initiative','Hub Initiative Template','Hub Site Application','Hub Page','Hub Project', \\\n",
    "           'Web Experience','FeatureLayer','QuickCapture Project']\n",
    "\n",
    "# Specify a project name (will be added to output folders, short with no spaces recommended.)\n",
    "    # example options:  the name of the Geoplatform folder, or the project name, or a task like \"ContentManagement\"\n",
    "projectName = 'ExampleProjectName'\n",
    "\n",
    "#Output directory for item subfolders/JSONs, only edit the \"outputFolder\" variable:\n",
    "folder_datestamp = str(datetime.now().strftime(\"_%Y%m%d\")) #Do not edit\n",
    "folder_timestamp = str(datetime.now().strftime(\"%H%M\")) #Do not edit\n",
    "outputFolder=str('\\\\\\\\serverIPaddress\\\\ContractFolder\\\\ProgramFolder\\\\ProjectFolder\\\\Scripts\\\\GeoplatformBackups\\\\'+projectName+folder_datestamp+'\\\\'+folder_timestamp+'\\\\') #format example: str('C:\\\\PythonTemp\\\\Output\\\\')\n",
    "print(Fore.BLUE+\"Output folder: \"+Style.RESET_ALL+outputFolder)\n",
    "\n",
    "###INPUT SECTION END###"
   ]
  },
  {
   "cell_type": "code",
   "execution_count": null,
   "metadata": {
    "hidden": true
   },
   "outputs": [],
   "source": [
    "#Assemble list of userNames from numeric options set in usersOptions variable:\n",
    "def appendUsernamesList():\n",
    "    usersDictionary = {1 : usersR9, 2 : usersSTART, 3 : usersR9EPA, 4 : usersR9TC, 5 : usersOther}\n",
    "    userNamesCache =[]\n",
    "    for usersOption in usersOptions:\n",
    "        appendNames = userNamesCache+(usersDictionary[usersOption])\n",
    "        userNamesCache = appendNames\n",
    "    return userNamesCache\n",
    "userNames = appendUsernamesList()\n",
    "print(Fore.BLUE+\"Username list: \"+Style.RESET_ALL+str(userNames))\n",
    "\n",
    "# checks if the required directory exists, and creates it if not: \n",
    "for subFolders in itemTypes:\n",
    "    os.makedirs(outputFolder+'JSON\\\\'+subFolders)\n",
    "    print(Fore.RED+\"Directory created: \"+Style.RESET_ALL+str(outputFolder)+'JSON\\\\'+subFolders)\n",
    "\n",
    "errorLog = open(outputFolder+\"JSON\\\\JSONitems_ERROR.txt\", \"w\") # list items that failed to export from Geoplatform (writeJSON function )."
   ]
  },
  {
   "cell_type": "markdown",
   "metadata": {
    "heading_collapsed": true
   },
   "source": [
    "# <font color=blue>Connect to Portal</font>\n",
    "- <font color=red>Important:</font>  Connection method in this script requires you to have ArcGIS Pro logged into the correct ArcGIS Online Organization target (U.S. EPA Geoplatform)."
   ]
  },
  {
   "cell_type": "code",
   "execution_count": null,
   "metadata": {
    "hidden": true
   },
   "outputs": [],
   "source": [
    "### ArcGIS portal url and login ###\n",
    "portal = GIS('pro')\n",
    "token = portal._con.token\n",
    "print(Fore.BLUE+\"Logged in as: \"+Style.RESET_ALL+str(portal.properties.user.username))"
   ]
  },
  {
   "cell_type": "markdown",
   "metadata": {
    "heading_collapsed": true
   },
   "source": [
    "# 1) Download JSON's for items on the project"
   ]
  },
  {
   "cell_type": "code",
   "execution_count": null,
   "metadata": {
    "hidden": true,
    "scrolled": true
   },
   "outputs": [],
   "source": [
    "def get_item_json(item): # Get the item's data in JSON format\n",
    "    print(\"         Downloading JSON...\")\n",
    "    item_data = item.get_data(False)\n",
    "    return (item_data)\n",
    "    \n",
    "def writeJSON(item,dictDesc,jsonData): # Write JSON to appropriate formatting based on item.type.\n",
    "    targetDirectory=outputFolder+\"JSON\\\\\"+item.type+\"\\\\\"\n",
    "    if item.type==\"Form\" or item.type==\"Notebook\":\n",
    "        #zip file move\n",
    "        #fileName=os.path.basename(jsonData) #used previously, can cause errors on form names feeding a dictionary instead of string\n",
    "        cleanTitle5=(item.title).replace(\"(\", \"_\")\n",
    "        cleanTitle4=cleanTitle5.replace(\")\", \"_\")\n",
    "        cleanTitle3=cleanTitle4.replace('\"', \"_\")\n",
    "        cleanTitle2=cleanTitle3.replace(\":\", \"_\")\n",
    "        cleanTitle1=cleanTitle2.replace(\"/\", \"_\")\n",
    "        cleanTitle=cleanTitle1.replace(\"?\",\"_\")\n",
    "        shutil.move(jsonData, targetDirectory+\"\\\\\"+cleanTitle+\".zip\")\n",
    "\n",
    "    elif item.type==\"Map Service\" or item.type==\"Image Service\" or item.type==\"FeatureLayer\" \\\n",
    "                or item.type==\"Feature Service\" or item.type==\"File Geodatabase\":\n",
    "        #get description\n",
    "        cleanTitle5=(item.title).replace(\"(\", \"_\")\n",
    "        cleanTitle4=cleanTitle5.replace(\")\", \"_\")\n",
    "        cleanTitle3=cleanTitle4.replace('\"', \"_\")\n",
    "        cleanTitle2=cleanTitle3.replace(\":\", \"_\")\n",
    "        cleanTitle1=cleanTitle2.replace(r\"/\",\"_\")\n",
    "        cleanTitle=cleanTitle1.replace(r\"?\",\"_\")\n",
    "        r_desc = open(targetDirectory+cleanTitle+r\"_desc.json\", \"w\")\n",
    "        r_desc.write(json.dumps(dictDesc))\n",
    "        r_desc.close()\n",
    "            \n",
    "    elif item.type==\"Web Map\" or item.type==\"Dashboard\" or item.type==\"Web Mapping Application\" \\\n",
    "                or item.type==\"StoryMap\" or item.type==\"Hub Initiative\" or item.type==\"Hub Initiative Template\" \\\n",
    "                or item.type==\"Hub Site Application\" or item.type==\"Hub Page\" or item.type==\"Hub Project\" \\\n",
    "                or item.type==\"Web Experience\" or item.type==\"Service Definition\" \\\n",
    "                or item.type==\"QuickCapture Project\":\n",
    "        #get description\n",
    "        cleanTitle5=(item.title).replace(\"(\", \"_\")\n",
    "        cleanTitle4=cleanTitle5.replace(\")\", \"_\")\n",
    "        cleanTitle3=cleanTitle4.replace('\"', \"_\")\n",
    "        cleanTitle2=cleanTitle3.replace(\":\", \"_\")\n",
    "        cleanTitle1=cleanTitle2.replace(r\"/\",\"_\")#remove forward slashes from title\n",
    "        cleanTitle=cleanTitle1.replace(r\"?\",\"_\")\n",
    "        r_desc = open(targetDirectory+cleanTitle+r\"_desc.json\", \"w\")\n",
    "        r_desc.write(json.dumps(dictDesc))\n",
    "        r_desc.close()\n",
    "            \n",
    "        #get data\n",
    "        r = open(targetDirectory+cleanTitle+r\".json\", \"w\", encoding='utf-8')\n",
    "        try:\n",
    "            r.write(str(jsonData))\n",
    "            r.close()\n",
    "        except Exception as e:\n",
    "            errorLog.write(str(jsonData)+'\\n')\n",
    "            errorLog.write(str(e)+'\\n')\n",
    "            print (Back.RED+\"ERROR ON EXPORT JSON DATA\"+Style.RESET_ALL)\n",
    "            print (jsonData)\n",
    "    else:\n",
    "        try:\n",
    "            errorLog.write(\"This item type was not included in the script: \"+str(item.title)+\",\"+str(item.type)+\",\"+str(item.id)+'\\n')\n",
    "        except Exception as e:\n",
    "            errorLog.write(str(jsonData)+'\\n')\n",
    "            errorLog.write(str(e)+'\\n')\n",
    "            print (Back.RED+\"ERROR ON EXPORT JSON DATA\"+Style.RESET_ALL)\n",
    "            print (e)\n",
    "        \n",
    "def loopJSON(item): # Search Geoplatform item titles and tags for key words, calls write functions if found.\n",
    "    for tagKeyword in tagKeywordList:\n",
    "        try:\n",
    "            if tagKeyword in item.title or tagKeyword.upper() in str((item.tags)).upper(): #upper case used to standardize case in tags\n",
    "                print (\"      Getting JSON: \"+Fore.BLUE+item.title+Style.RESET_ALL+\" | \"+item.type+\" | \"+item.id)\n",
    "                jsonData = get_item_json(item) #use get_item_json function to get data\n",
    "                dictDesc = dict(item) #get description\n",
    "                writeJSON(item,dictDesc,jsonData) #use writeJSON function to write file depending on item type\n",
    "                break\n",
    "        except Exception as e:\n",
    "            print (Back.RED+\"UNABLE TO ITERATE ON A USER CONTENT FOLDER\"+Style.RESET_ALL)\n",
    "            print (e)\n",
    "\n",
    "def searchGP_UsersKeywords_OR_itemID():\n",
    "    if methodToGetItems == 'KEYWORDS_AND_USERS':\n",
    "        print(Back.BLUE+\"Downloading JSONs using the KEYWORDS_AND_USERS option.\"+Style.RESET_ALL)\n",
    "        #loop through Geoplatform user's root folder and subfolders looking for key words in loopJSON function.\n",
    "        #max_items in root and sub folder lines is important because default max is 100 and users with more will miss items.\n",
    "        for userName in userNames:\n",
    "            try:\n",
    "                print(\"User:  \"+Fore.RED+userName+Style.RESET_ALL)\n",
    "                user = portal.users.get(userName)\n",
    "                user_content = user.items(max_items=5000)\n",
    "\n",
    "                # Get item ids from root folder first\n",
    "                for item in user_content:\n",
    "                    #if (item.type == iType):\n",
    "                    loopJSON(item)\n",
    "\n",
    "                # Get item ids from each of the folders next\n",
    "                folders = user.folders\n",
    "                for folder in folders:\n",
    "                    print(\"   Folder:  \"+str(folder['title']))\n",
    "                    folder_items = user.items(folder=folder['title'],max_items=5000)\n",
    "\n",
    "                    for item in folder_items:\n",
    "                        #if (item.type == iType):\n",
    "                        loopJSON(item)\n",
    "            except Exception as e:\n",
    "            print (\"     Error with table joinInput:  \"+Back.RED+str(e)+Style.RESET_ALL)\n",
    "    if methodToGetItems == 'ITEM_ID':\n",
    "        print(Back.BLUE+\"Downloading JSONs using the ITEM_ID option, using input CSV file containing Item ID's.\"+Style.RESET_ALL)\n",
    "        with open(str(inputCSVitemIDs), newline='') as inputCSV:\n",
    "            csvReader = csv.reader(inputCSV)\n",
    "            csvData = list(csvReader)\n",
    "        for inputItemID in csvData:\n",
    "            itemID = inputItemID[0]\n",
    "            try:\n",
    "                item = portal.content.get(itemID)\n",
    "                print (\"      Getting JSON: \"+Fore.BLUE+item.title+Style.RESET_ALL+\" | \"+item.type+\" | \"+item.id)\n",
    "                jsonData = get_item_json(item) #use get_item_json function to get data\n",
    "                dictDesc = dict(item) #get description\n",
    "                writeJSON(item,dictDesc,jsonData) #use writeJSON function to write file depending on item type\n",
    "            except:\n",
    "                print(Fore.RED+\"Error: Item ID not found in Geoplatform:\"+Style.RESET_ALL+itemID)\n",
    "        inputCSV.close()\n",
    "    else:\n",
    "        print(Fore.RED+\"Error: Invalid entry for variable methodToGetItems, use ITEM_ID or KEYWORDS_AND_USERS.\"+Style.RESET_ALL)\n",
    "\n",
    "searchGP_UsersKeywords_OR_itemID()\n",
    "errorLog.close()\n",
    "inputCSVitemIDs.close()\n",
    "print(Fore.GREEN+\"END\"+Style.RESET_ALL)"
   ]
  },
  {
   "cell_type": "code",
   "execution_count": null,
   "metadata": {
    "hidden": true
   },
   "outputs": [],
   "source": []
  }
 ],
 "metadata": {
  "kernelspec": {
   "display_name": "Python 3 (ipykernel)",
   "language": "python",
   "name": "python3"
  },
  "language_info": {
   "codemirror_mode": {
    "name": "ipython",
    "version": 3
   },
   "file_extension": ".py",
   "mimetype": "text/x-python",
   "name": "python",
   "nbconvert_exporter": "python",
   "pygments_lexer": "ipython3",
   "version": "3.11.8"
  }
 },
 "nbformat": 4,
 "nbformat_minor": 4
}
