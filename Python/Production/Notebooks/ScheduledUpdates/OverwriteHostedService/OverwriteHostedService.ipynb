{
 "cells": [
  {
   "cell_type": "markdown",
   "metadata": {
    "heading_collapsed": true
   },
   "source": [
    "# <font color=red>ArcPy - Overwrite Hosted Feature Layer Service Definition in AGOL</font>\n",
    "<b><u>Contents:</b></u><br>\n",
    "- Use a Pro project map (that was originally used to publish a hosted feature layer) to overwrite the service definition AGOL item of the hosted feature layer.  The hosted feature layer will have a separate service definition item in AGOL (use the Item ID for the service definition not the hosted FL).\n",
    "- This script is normally edited for a project in a notebook, then relevant cells copied into a py file that will be executed by a bat file and scheduled task on the GIS server.\n",
    "- Be careful with folder path syntax in the variables section."
   ]
  },
  {
   "cell_type": "markdown",
   "metadata": {
    "heading_collapsed": true
   },
   "source": [
    "# <font color=blue>Import modules</font>"
   ]
  },
  {
   "cell_type": "code",
   "execution_count": 1,
   "metadata": {
    "hidden": true
   },
   "outputs": [
    {
     "name": "stdout",
     "output_type": "stream",
     "text": [
      "Modules Imported: 10/25/2024 09:04 Pacific Daylight Time\n"
     ]
    }
   ],
   "source": [
    "import arcpy\n",
    "import os, sys\n",
    "from arcgis.gis import GIS\n",
    "import smtplib, ssl\n",
    "from datetime import datetime\n",
    "print(Fore.BLUE+\"Modules Imported: \"+Style.RESET_ALL+str(datetime.now().strftime(\"%m/%d/%Y %H:%M \"))+(time.localtime().tm_zone))"
   ]
  },
  {
   "cell_type": "markdown",
   "metadata": {
    "heading_collapsed": true
   },
   "source": [
    "# Project variables"
   ]
  },
  {
   "cell_type": "code",
   "execution_count": 2,
   "metadata": {
    "hidden": true,
    "scrolled": false
   },
   "outputs": [
    {
     "name": "stdout",
     "output_type": "stream",
     "text": [
      "fldrPath: \\\\10.147.243.138\\start\\Removals\\JHBaxter\n",
      "prjPath: \\\\10.147.243.138\\start\\Removals\\JHBaxter\\Baxter_Pro_2024.aprx\n",
      "sd_fs_name: JHBaxter_TCRA_TankStatus_15Min_Public\n",
      "sdPath: \\\\10.147.243.138\\start\\Removals\\JHBaxter\\Scripts\\Overwrite_HostedService\n",
      "sddraft: \\\\10.147.243.138\\start\\Removals\\JHBaxter\\Scripts\\Overwrite_HostedService\\JHBaxter_TCRA_TankStatus_15Min_Public.sddraft\n",
      "sd: \\\\10.147.243.138\\start\\Removals\\JHBaxter\\Scripts\\Overwrite_HostedService\\JHBaxter_TCRA_TankStatus_15Min_Public.sd\n"
     ]
    }
   ],
   "source": [
    "### Variables section begin ###\n",
    "\n",
    "# Set the path to the local project folder: (syntax: r\"\\\\10.147.243.138\\start\\Removals\\JHBaxter\")\n",
    "fldrPath = r\"\\\\10.147.243.138\\start\\Removals\\JHBaxter\"\n",
    "print('fldrPath: '+fldrPath)\n",
    "\n",
    "# Concatenate folder path and project aprx name: (syntax:  os.path.join(fldrPath,\"Baxter_Pro_2024.aprx\"))\n",
    "prjPath = os.path.join(fldrPath,\"Baxter_Pro_2024.aprx\")\n",
    "print('prjPath: '+prjPath)\n",
    "\n",
    "# Target service definition item name in AGOL: (syntax:  \"JHBaxter_TCRA_TankStatus_15Min_Public\")\n",
    "sd_fs_name = \"JHBaxter_TCRA_TankStatus_15Min_Public\" #Usually same name as the map name in Pro\n",
    "print('sd_fs_name: '+sd_fs_name)\n",
    "\n",
    "# Target service definition item ID in AGOL:\n",
    "sd_fs_ID = \"5b93905640f9493ca733b0a3bdb876b2\" #hosted feature layer is: (\"4166f2106b424022a92a0ef21ec1e431\")\n",
    "\n",
    "# Relative path to local folder where the .sd and .sddraft files are located for the project:\n",
    "sdPath = os.path.join(fldrPath, \"Scripts\\Overwrite_HostedService\")\n",
    "print('sdPath: '+sdPath)\n",
    "\n",
    "#sddraft filename:\n",
    "sddraft = os.path.join(sdPath, \"JHBaxter_TCRA_TankStatus_15Min_Public.sddraft\")\n",
    "print('sddraft: '+sddraft)\n",
    "\n",
    "#sd filename:\n",
    "sd = os.path.join(sdPath, \"JHBaxter_TCRA_TankStatus_15Min_Public.sd\")\n",
    "print('sd: '+sd)\n",
    "\n",
    "# Path to metadata XML (not using on JH Baxter)\n",
    "#sdMetaData = os.path.join(relPath, \"metadata.xml\")\n",
    "#print(sdMetaData)\n",
    "\n",
    "# Set AGOL sharing options\n",
    "shrOrg = True\n",
    "shrEveryone = True\n",
    "shrGroups = (\"R10 JH Baxter Public Items\")\n",
    "\n",
    "### End variables section ###"
   ]
  },
  {
   "cell_type": "markdown",
   "metadata": {
    "heading_collapsed": true
   },
   "source": [
    "# <font color=blue>Connect to Portal</font>"
   ]
  },
  {
   "cell_type": "code",
   "execution_count": 3,
   "metadata": {
    "hidden": true
   },
   "outputs": [
    {
     "name": "stdout",
     "output_type": "stream",
     "text": [
      "Logged in as: franczyk.xavier_EPAEXT\n"
     ]
    }
   ],
   "source": [
    "### ArcGIS portal url and login ###\n",
    "portal = GIS('pro')\n",
    "token = portal._con.token\n",
    "print(\"Logged in as: \"+str(portal.properties.user.username))"
   ]
  },
  {
   "cell_type": "markdown",
   "metadata": {
    "heading_collapsed": true
   },
   "source": [
    "# Function to overwrite existing hosted service definition\n",
    "- opens Pro aprx and first layer in map name variable\n",
    "- overwrites local .sd and .sddraft files\n",
    "- connects to portal as user noted in variables cell\n",
    "- finds hosted sd item to overwrite, based on sd Item ID in AGOL\n",
    "- overwrites sd item in AGOL\n",
    "- logs success or exception in txt local file (e-mail exception disabled in current script version)"
   ]
  },
  {
   "cell_type": "code",
   "execution_count": 4,
   "metadata": {
    "hidden": true
   },
   "outputs": [
    {
     "name": "stdout",
     "output_type": "stream",
     "text": [
      "Connecting to first layer in aprx map...\n",
      "Layer name: Tanks w/ Status\n",
      "Creating SD file...\n",
      "Connecting to GIS @ https://www.arcgis.com/ version:2024.2\n",
      "Searching for original SD on portal...\n",
      "Found SD: JHBaxter_TCRA_TankStatus_15Min_Public, ID: 5b93905640f9493ca733b0a3bdb876b2\n",
      "Overwriting existing feature service...\n",
      "Setting sharing options…\n",
      "Finished overwriting: JHBaxter_TCRA_TankStatus_15Min_Public – ID: 4166f2106b424022a92a0ef21ec1e431\n",
      "Overwritten at: 10/25/2024 09:06 Pacific Daylight Time\n"
     ]
    }
   ],
   "source": [
    "def overwriteHostedServiceDef():\n",
    "    logFile = open(sdPath+\"\\\\LogFile.txt\", \"a\")\n",
    "    try:\n",
    "        # Overwrite .sddraft and stage to SD\n",
    "        print(\"Connecting to first layer in aprx map...\")\n",
    "        arcpy.env.overwriteOutput = True\n",
    "        aprx = arcpy.mp.ArcGISProject(prjPath)\n",
    "        mapName = aprx.listMaps(sd_fs_name)[0]\n",
    "        lyr = mapName.listLayers()[0]\n",
    "        print(\"Layer name: \"+(str(lyr)))\n",
    "        print(\"Creating SD file...\")\n",
    "        arcpy.mp.CreateWebLayerSDDraft(lyr, sddraft, sd_fs_name, 'MY_HOSTED_SERVICES', 'FEATURE_ACCESS','', True, True)\n",
    "        arcpy.StageService_server(sddraft, sd)\n",
    "        #arcpy.UploadServiceDefinition_server(sd, 'My Hosted Services')\n",
    "\n",
    "        print(\"Connecting to {}\".format(portal))\n",
    "\n",
    "        # Find the SD in AGOL by item ID, overwrite, and set sharing and metadata\n",
    "        print(\"Searching for original SD on portal...\")\n",
    "        sdItem = portal.content.get(sd_fs_ID)\n",
    "\n",
    "        print(\"Found SD: {}, ID: {}\".format(sdItem.title, sdItem.id))\n",
    "        sdItem.update(data=sd) #metadata=sdMetaData)\n",
    "        print(\"Overwriting existing feature service...\")\n",
    "        sdOverwrite = sdItem.publish(overwrite=True)\n",
    "\n",
    "        if shrOrg or shrEveryone or shrGroups:\n",
    "            print(\"Setting sharing options…\")\n",
    "            sdOverwrite.share(org=shrOrg, everyone=shrEveryone, groups=shrGroups)\n",
    "\n",
    "        print(\"Finished overwriting: {} – ID: {}\".format(sdOverwrite.title, sdOverwrite.id))\n",
    "        print(\"Overwritten at: \"+str(datetime.now().strftime(\"%m/%d/%Y %H:%M \"))+(time.localtime().tm_zone))\n",
    "        logFile.write('\\n'+\"SUCCESSFUL overwrite at: \"+str(datetime.now().strftime(\"%m/%d/%Y %H:%M \"))+(time.localtime().tm_zone) \\\n",
    "                      +\". Item: \"+str(sdOverwrite.title)+\". ID: \"+str(sdOverwrite.id))\n",
    "        logFile.close()\n",
    "        \n",
    "    except Exception as e:\n",
    "        print(\"Process DID NOT run successfully. Updating log file...\")\n",
    "        print(\"Exception: \"+ str(e))\n",
    "        #msg = 'Scheduled task <Overwrite_GPhostedService_PublicStatus.py> did not run successfully. \\n\\n' + str(e)\n",
    "        #send_Email(subject, msg, recipients)\n",
    "        logFile.write('\\n'+\"FAILED overwrite at: \"+str(datetime.now().strftime(\"%m/%d/%Y %H:%M \"))+(time.localtime().tm_zone))\n",
    "        logFile.close()\n",
    "        \n",
    "overwriteHostedServiceDef()"
   ]
  },
  {
   "cell_type": "markdown",
   "metadata": {
    "heading_collapsed": true
   },
   "source": [
    "# E-mail variables and function <font color=red>(not used on JH Baxter)</font>\n",
    "- only used if generating an e-mail notification of failure of script"
   ]
  },
  {
   "cell_type": "code",
   "execution_count": null,
   "metadata": {
    "hidden": true,
    "scrolled": true
   },
   "outputs": [],
   "source": [
    "##########Email Send Function#######################\n",
    "# Set email variables\n",
    "#sender = \"DONOTREPLYR09@ercloud.org\"\n",
    "#recipients = ('xavier.franczyk@westonsolutions.com','ryan.green@westonsolutions.com')\n",
    "\t\t\n",
    "#cwd = os.getcwd()\n",
    "#print(\"Current working directory is:\",cwd)\n",
    "#subject = 'Error in scheduled task on ERT R9GIS Server: Public StoryMap Assessment Status Nightly'\n",
    "#msg = 'Scheduled task <Overwrite_GPhostedService_PublicStatus.py> did not run successfully. \\n\\n'\n",
    "\n",
    "#def send_Email(subject, msg, recipients):\n",
    "   # try:\n",
    "       # server = smtplib.SMTP('10.11.16.150',25)\n",
    "       # message = 'Subject: {}\\n\\n{}'.format(subject, msg)\n",
    "       # server.sendmail('DONOTREPLYR09@ercloud.org', recipients, message)\n",
    "       # server.quit()\n",
    "       # print(\"Success: Email Sent!\")\n",
    "   # except:\n",
    "       # print(\"Failed: Email failed to send\")"
   ]
  },
  {
   "cell_type": "markdown",
   "metadata": {
    "heading_collapsed": true
   },
   "source": [
    "# Debugging area"
   ]
  },
  {
   "cell_type": "code",
   "execution_count": null,
   "metadata": {
    "hidden": true
   },
   "outputs": [],
   "source": []
  }
 ],
 "metadata": {
  "kernelspec": {
   "display_name": "Python 3 (ipykernel)",
   "language": "python",
   "name": "python3"
  },
  "language_info": {
   "codemirror_mode": {
    "name": "ipython",
    "version": 3
   },
   "file_extension": ".py",
   "mimetype": "text/x-python",
   "name": "python",
   "nbconvert_exporter": "python",
   "pygments_lexer": "ipython3",
   "version": "3.11.8"
  }
 },
 "nbformat": 4,
 "nbformat_minor": 2
}
